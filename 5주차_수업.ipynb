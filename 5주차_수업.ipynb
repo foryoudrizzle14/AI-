{
  "nbformat": 4,
  "nbformat_minor": 0,
  "metadata": {
    "colab": {
      "provenance": [],
      "include_colab_link": true
    },
    "kernelspec": {
      "name": "python3",
      "display_name": "Python 3"
    },
    "language_info": {
      "name": "python"
    }
  },
  "cells": [
    {
      "cell_type": "markdown",
      "metadata": {
        "id": "view-in-github",
        "colab_type": "text"
      },
      "source": [
        "<a href=\"https://colab.research.google.com/github/foryoudrizzle14/AI-/blob/main/5%EC%A3%BC%EC%B0%A8_%EC%88%98%EC%97%85.ipynb\" target=\"_parent\"><img src=\"https://colab.research.google.com/assets/colab-badge.svg\" alt=\"Open In Colab\"/></a>"
      ]
    },
    {
      "cell_type": "code",
      "execution_count": null,
      "metadata": {
        "id": "zEnRCEO70jfP"
      },
      "outputs": [],
      "source": [
        "import torch\n",
        "import torch.nn as nn\n",
        "import torch.optim as optim\n",
        "\n",
        "# 데이터 준비\n",
        "data = [1, 0, 1, 0, 0, 1, 1, 0, 0, 1, 0, 0]\n",
        "\n",
        "# 하이퍼파라미터 설정\n",
        "sequence_length = 3  # 입력 시퀀스 길이\n",
        "input_size = 1       # 입력 크기\n",
        "hidden_size = 10     # 은닉층 크기\n",
        "output_size = 1      # 출력 크기\n",
        "num_layers = 1       # RNN 레이어 수\n",
        "learning_rate = 0.01\n",
        "num_epochs = 200\n",
        "\n"
      ]
    },
    {
      "cell_type": "code",
      "source": [
        "# 데이터셋 생성\n",
        "def create_sequences(data, sequence_length):\n",
        "    xs = []\n",
        "    ys = []\n",
        "    for i in range(len(data) - sequence_length):\n",
        "        x = data[i:i+sequence_length] # [0 : 3]\n",
        "        y = data[i + sequence_length]\n",
        "        xs.append(x)\n",
        "        ys.append(y)\n",
        "    return torch.tensor(xs, dtype=torch.float32), torch.tensor(ys, dtype=torch.float32)\n",
        "\n",
        "x_data, y_data = create_sequences(data, sequence_length)\n",
        "\n",
        "print(x_data, '\\n',y_data)"
      ],
      "metadata": {
        "colab": {
          "base_uri": "https://localhost:8080/"
        },
        "id": "GVVHdPPgCs_E",
        "outputId": "4dc8dde9-6c85-4e4e-d59a-65af088e7f99"
      },
      "execution_count": null,
      "outputs": [
        {
          "output_type": "stream",
          "name": "stdout",
          "text": [
            "tensor([[1., 0., 1.],\n",
            "        [0., 1., 0.],\n",
            "        [1., 0., 0.],\n",
            "        [0., 0., 1.],\n",
            "        [0., 1., 1.],\n",
            "        [1., 1., 0.],\n",
            "        [1., 0., 0.],\n",
            "        [0., 0., 1.],\n",
            "        [0., 1., 0.]]) \n",
            " tensor([0., 0., 1., 1., 0., 0., 1., 0., 0.])\n"
          ]
        }
      ]
    },
    {
      "cell_type": "code",
      "source": [
        "class SimpleRNN(nn.Module):\n",
        "    def __init__(self, input_size, hidden_size, output_size, num_layers=1):\n",
        "        super(SimpleRNN, self).__init__()\n",
        "        self.hidden_size = hidden_size\n",
        "        self.num_layers = num_layers\n",
        "        self.rnn = nn.RNN(input_size, hidden_size, num_layers, batch_first=True)\n",
        "        self.fc = nn.Linear(hidden_size, output_size)\n",
        "\n",
        "    def forward(self, x):\n",
        "        h0 = torch.zeros(self.num_layers, x.size(0), self.hidden_size) # 초기 은닉 레이어 생성\n",
        "        out, _ = self.rnn(x, h0)\n",
        "        out = self.fc(out[:, -1, :])\n",
        "        return out"
      ],
      "metadata": {
        "id": "huEQ0kdODX_h"
      },
      "execution_count": null,
      "outputs": []
    },
    {
      "cell_type": "code",
      "source": [
        "# 모델 초기화\n",
        "model = SimpleRNN(input_size, hidden_size, output_size, num_layers)"
      ],
      "metadata": {
        "id": "4PV2Sx_0FIZ5"
      },
      "execution_count": null,
      "outputs": []
    },
    {
      "cell_type": "code",
      "source": [
        "criterion = nn.MSELoss()\n",
        "optimizer = optim.Adam(model.parameters(), lr=learning_rate)"
      ],
      "metadata": {
        "id": "PhENOmiLFKGm"
      },
      "execution_count": null,
      "outputs": []
    },
    {
      "cell_type": "code",
      "source": [
        "# 입력 데이터를 3차원 텐서로 변환 (배치 크기, 시퀀스 길이, 입력 크기)\n",
        "x_data = x_data.view(-1, sequence_length, input_size)"
      ],
      "metadata": {
        "id": "1n1YKxpqFN7O"
      },
      "execution_count": null,
      "outputs": []
    },
    {
      "cell_type": "code",
      "source": [
        "# 모델 학습\n",
        "for epoch in range(num_epochs):\n",
        "    model.train()\n",
        "    outputs = model(x_data)\n",
        "    optimizer.zero_grad()\n",
        "    loss = criterion(outputs, y_data.view(-1, 1))\n",
        "    loss.backward()\n",
        "    optimizer.step()\n",
        "\n",
        "    if (epoch + 1) % 20 == 0:\n",
        "        print(f'Epoch [{epoch + 1}/{num_epochs}], Loss: {loss.item():.4f}')\n"
      ],
      "metadata": {
        "colab": {
          "base_uri": "https://localhost:8080/"
        },
        "id": "c6HfNLzRFprP",
        "outputId": "9a297d6a-19cc-40a3-ec1c-ef312770a1f3"
      },
      "execution_count": null,
      "outputs": [
        {
          "output_type": "stream",
          "name": "stdout",
          "text": [
            "Epoch [20/200], Loss: 0.1461\n",
            "Epoch [40/200], Loss: 0.0956\n",
            "Epoch [60/200], Loss: 0.0801\n",
            "Epoch [80/200], Loss: 0.0671\n",
            "Epoch [100/200], Loss: 0.0585\n",
            "Epoch [120/200], Loss: 0.0559\n",
            "Epoch [140/200], Loss: 0.0556\n",
            "Epoch [160/200], Loss: 0.0556\n",
            "Epoch [180/200], Loss: 0.0556\n",
            "Epoch [200/200], Loss: 0.0556\n"
          ]
        }
      ]
    },
    {
      "cell_type": "code",
      "source": [
        "model.eval()\n",
        "with torch.no_grad():\n",
        "    test_input = torch.tensor(data[-sequence_length:], dtype=torch.float32).view(1, sequence_length, input_size)\n",
        "    predicted = model(test_input)\n",
        "    print(f'Predicted next value: {predicted.item():.4f}')\n",
        "\n"
      ],
      "metadata": {
        "colab": {
          "base_uri": "https://localhost:8080/"
        },
        "id": "EqLMln0pFtkc",
        "outputId": "11fb9cc6-eb6e-4f2b-f38d-1941b8919ced"
      },
      "execution_count": null,
      "outputs": [
        {
          "output_type": "stream",
          "name": "stdout",
          "text": [
            "Predicted next value: 1.0001\n"
          ]
        }
      ]
    },
    {
      "cell_type": "code",
      "source": [
        "test_input"
      ],
      "metadata": {
        "colab": {
          "base_uri": "https://localhost:8080/"
        },
        "id": "vZuyec8oFwm1",
        "outputId": "311acaa1-6d34-429e-c74e-dfc0b90f530b"
      },
      "execution_count": null,
      "outputs": [
        {
          "output_type": "execute_result",
          "data": {
            "text/plain": [
              "tensor([[[1.],\n",
              "         [0.],\n",
              "         [0.]]])"
            ]
          },
          "metadata": {},
          "execution_count": 21
        }
      ]
    },
    {
      "cell_type": "code",
      "source": [
        "print(x_data, '\\n',y_data)"
      ],
      "metadata": {
        "colab": {
          "base_uri": "https://localhost:8080/"
        },
        "id": "3uC8qYMbGB35",
        "outputId": "d2892781-ab88-4bae-8b6a-7978307af8d8"
      },
      "execution_count": null,
      "outputs": [
        {
          "output_type": "stream",
          "name": "stdout",
          "text": [
            "tensor([[[1.],\n",
            "         [0.],\n",
            "         [1.]],\n",
            "\n",
            "        [[0.],\n",
            "         [1.],\n",
            "         [0.]],\n",
            "\n",
            "        [[1.],\n",
            "         [0.],\n",
            "         [0.]],\n",
            "\n",
            "        [[0.],\n",
            "         [0.],\n",
            "         [1.]],\n",
            "\n",
            "        [[0.],\n",
            "         [1.],\n",
            "         [1.]],\n",
            "\n",
            "        [[1.],\n",
            "         [1.],\n",
            "         [0.]],\n",
            "\n",
            "        [[1.],\n",
            "         [0.],\n",
            "         [0.]],\n",
            "\n",
            "        [[0.],\n",
            "         [0.],\n",
            "         [1.]],\n",
            "\n",
            "        [[0.],\n",
            "         [1.],\n",
            "         [0.]]]) \n",
            " tensor([0., 0., 1., 1., 0., 0., 1., 0., 0.])\n"
          ]
        }
      ]
    },
    {
      "cell_type": "markdown",
      "source": [
        "CIFAR-10"
      ],
      "metadata": {
        "id": "BM_5km9CR9Ru"
      }
    },
    {
      "cell_type": "code",
      "source": [
        "classes = ('plane', 'car', 'bird', 'cat', 'deer', 'dog', 'frog', 'horse', 'ship', 'truck')"
      ],
      "metadata": {
        "id": "s0FfzrDYSBkC"
      },
      "execution_count": null,
      "outputs": []
    },
    {
      "cell_type": "code",
      "source": [
        "import torch\n",
        "import torch.nn as nn\n",
        "import torch.optim as optim\n",
        "import torchvision\n",
        "import torchvision.transforms as transforms\n",
        "import matplotlib.pyplot as plt\n",
        "import torch.nn.functional as F"
      ],
      "metadata": {
        "id": "yBPmZb6cSKBo"
      },
      "execution_count": null,
      "outputs": []
    },
    {
      "cell_type": "code",
      "source": [
        "# CIFAR-10 데이터셋 로드 및 전처리\n",
        "transform = transforms.Compose([\n",
        "    transforms.ToTensor(),\n",
        "    transforms.Normalize((0.5, 0.5, 0.5), (0.5, 0.5, 0.5))\n",
        "])"
      ],
      "metadata": {
        "id": "zJ_KtQXzSSR6"
      },
      "execution_count": null,
      "outputs": []
    },
    {
      "cell_type": "code",
      "source": [
        "batch_size = 64"
      ],
      "metadata": {
        "id": "fdRiUai2SbeZ"
      },
      "execution_count": null,
      "outputs": []
    },
    {
      "cell_type": "code",
      "source": [
        "train_dataset = torchvision.datasets.CIFAR10(root='./data', train=True, download=True, transform=transform)\n",
        "train_loader = torch.utils.data.DataLoader(dataset=train_dataset, batch_size=batch_size, shuffle=True)\n",
        "\n",
        "test_dataset = torchvision.datasets.CIFAR10(root='./data', train=False, download=True, transform=transform)\n",
        "test_loader = torch.utils.data.DataLoader(dataset=test_dataset, batch_size=batch_size, shuffle=False)"
      ],
      "metadata": {
        "colab": {
          "base_uri": "https://localhost:8080/"
        },
        "id": "B7FddJgoSV8S",
        "outputId": "21d36964-1ea8-45ae-9dad-c945b112316e"
      },
      "execution_count": null,
      "outputs": [
        {
          "output_type": "stream",
          "name": "stdout",
          "text": [
            "Downloading https://www.cs.toronto.edu/~kriz/cifar-10-python.tar.gz to ./data/cifar-10-python.tar.gz\n"
          ]
        },
        {
          "output_type": "stream",
          "name": "stderr",
          "text": [
            "100%|██████████| 170498071/170498071 [00:02<00:00, 73271693.85it/s]\n"
          ]
        },
        {
          "output_type": "stream",
          "name": "stdout",
          "text": [
            "Extracting ./data/cifar-10-python.tar.gz to ./data\n",
            "Files already downloaded and verified\n"
          ]
        }
      ]
    },
    {
      "cell_type": "code",
      "source": [
        "# CNN 모델 정의\n",
        "class SimpleCNN(nn.Module):\n",
        "    def __init__(self):\n",
        "        super(SimpleCNN, self).__init__()\n",
        "        self.conv1 = nn.Conv2d(3, 32, kernel_size=3, padding=1)\n",
        "        self.pool = nn.MaxPool2d(kernel_size=2, stride=2, padding=0)\n",
        "        self.conv2 = nn.Conv2d(32, 64, kernel_size=3, padding=1)\n",
        "        self.fc1 = nn.Linear(64 * 8 * 8, 512)\n",
        "        self.fc2 = nn.Linear(512, 10)\n",
        "\n",
        "    def forward(self, x):\n",
        "        x = self.pool(F.relu(self.conv1(x)))\n",
        "        x = self.pool(F.relu(self.conv2(x)))\n",
        "        x = x.view(-1, 64 * 8 * 8)\n",
        "        x = F.relu(self.fc1(x))\n",
        "        x = self.fc2(x)\n",
        "        return x\n",
        "\n"
      ],
      "metadata": {
        "id": "hTA67ddZSc6m"
      },
      "execution_count": null,
      "outputs": []
    },
    {
      "cell_type": "code",
      "source": [
        "# 모델 초기화\n",
        "model = SimpleCNN()\n",
        "\n",
        "# 손실 함수 및 최적화 기법 설정\n",
        "criterion = nn.CrossEntropyLoss()\n",
        "optimizer = optim.Adam(model.parameters(), lr=learning_rate)"
      ],
      "metadata": {
        "id": "o-z1ArIHSpWN"
      },
      "execution_count": null,
      "outputs": []
    },
    {
      "cell_type": "code",
      "source": [
        "# 모델 학습 함수\n",
        "def train(model, train_loader, criterion, optimizer, num_epochs):\n",
        "    model.train()\n",
        "    for epoch in range(num_epochs):\n",
        "        running_loss = 0.0\n",
        "        for i, (images, labels) in enumerate(train_loader):\n",
        "            optimizer.zero_grad()\n",
        "            outputs = model(images)\n",
        "            loss = criterion(outputs, labels)\n",
        "            loss.backward()\n",
        "            optimizer.step()\n",
        "            running_loss += loss.item()\n",
        "            if (i + 1) % 100 == 0:\n",
        "                print(f'Epoch [{epoch + 1}/{num_epochs}], Step [{i + 1}/{len(train_loader)}], Loss: {running_loss / 100:.4f}')\n",
        "                running_loss = 0.0"
      ],
      "metadata": {
        "id": "FlDHu_FFSqXG"
      },
      "execution_count": null,
      "outputs": []
    },
    {
      "cell_type": "code",
      "source": [
        "# 모델 평가 함수\n",
        "def evaluate(model, test_loader, criterion):\n",
        "    model.eval()\n",
        "    with torch.no_grad():\n",
        "        correct = 0\n",
        "        total = 0\n",
        "        test_loss = 0.0\n",
        "        for images, labels in test_loader:\n",
        "            outputs = model(images)\n",
        "            loss = criterion(outputs, labels)\n",
        "            test_loss += loss.item()\n",
        "            predicted = outputs.argmax(dim=1)\n",
        "            total += labels.size(0)\n",
        "            correct += (predicted == labels).sum().item()\n",
        "        accuracy = 100 * correct / total\n",
        "        print(f'Accuracy of the model on the test images: {accuracy:.2f}%')\n",
        "        print(f'Test Loss: {test_loss / len(test_loader):.4f}')\n"
      ],
      "metadata": {
        "id": "GrkL19rJSsME"
      },
      "execution_count": null,
      "outputs": []
    },
    {
      "cell_type": "code",
      "source": [
        "# 하이퍼파라미터 설정\n",
        "num_epochs = 2\n",
        "batch_size = 64\n",
        "learning_rate = 0.001\n",
        "\n",
        "# 모델 학습\n",
        "train(model, train_loader, criterion, optimizer, num_epochs)\n",
        "\n",
        "# 모델 평가\n",
        "evaluate(model, test_loader, criterion)"
      ],
      "metadata": {
        "colab": {
          "base_uri": "https://localhost:8080/"
        },
        "id": "q6ysC-vNStSC",
        "outputId": "5b8fcc67-dcba-4a8b-cd16-e56fc03cad25"
      },
      "execution_count": null,
      "outputs": [
        {
          "output_type": "stream",
          "name": "stdout",
          "text": [
            "Epoch [1/2], Step [100/782], Loss: 2.4566\n",
            "Epoch [1/2], Step [200/782], Loss: 2.3036\n",
            "Epoch [1/2], Step [300/782], Loss: 2.3036\n",
            "Epoch [1/2], Step [400/782], Loss: 2.3032\n",
            "Epoch [1/2], Step [500/782], Loss: 2.3034\n",
            "Epoch [1/2], Step [600/782], Loss: 2.3036\n",
            "Epoch [1/2], Step [700/782], Loss: 2.3038\n",
            "Epoch [2/2], Step [100/782], Loss: 2.3030\n",
            "Epoch [2/2], Step [200/782], Loss: 2.3041\n",
            "Epoch [2/2], Step [300/782], Loss: 2.3028\n",
            "Epoch [2/2], Step [400/782], Loss: 2.3040\n",
            "Epoch [2/2], Step [500/782], Loss: 2.3036\n"
          ]
        }
      ]
    },
    {
      "cell_type": "code",
      "source": [
        "import numpy as np\n",
        "def imshow(img):\n",
        "    img = img / 2 + 0.5  # 정규화 복원\n",
        "    npimg = img.numpy()\n",
        "    plt.figure(figsize = (3,3))\n",
        "    plt.imshow(np.transpose(npimg, (1, 2, 0)))\n",
        "    plt.show()"
      ],
      "metadata": {
        "id": "A_uSOpFpSuvB"
      },
      "execution_count": null,
      "outputs": []
    },
    {
      "cell_type": "code",
      "source": [
        "def test_image():\n",
        "\n",
        "  batch = next(iter(test_loader))\n",
        "  i = np.random.randint(63)\n",
        "  X = batch[0][i]\n",
        "  y = batch[1][i]\n",
        "\n",
        "  outputs = model(X)\n",
        "  predicted = outputs.argmax(dim=1)\n",
        "\n",
        "  imshow(X)\n",
        "  print(f'pred : {classes[predicted.item()]}, label : {classes[y.item()]}')"
      ],
      "metadata": {
        "id": "0W-cHThlSv3L"
      },
      "execution_count": null,
      "outputs": []
    },
    {
      "cell_type": "code",
      "source": [
        "test_image()"
      ],
      "metadata": {
        "id": "Uhp89oI_Sw7d"
      },
      "execution_count": null,
      "outputs": []
    }
  ]
}
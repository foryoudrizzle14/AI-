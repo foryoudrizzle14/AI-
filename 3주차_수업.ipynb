{
  "nbformat": 4,
  "nbformat_minor": 0,
  "metadata": {
    "colab": {
      "provenance": [],
      "gpuType": "T4",
      "include_colab_link": true
    },
    "kernelspec": {
      "name": "python3",
      "display_name": "Python 3"
    },
    "language_info": {
      "name": "python"
    },
    "accelerator": "GPU"
  },
  "cells": [
    {
      "cell_type": "markdown",
      "metadata": {
        "id": "view-in-github",
        "colab_type": "text"
      },
      "source": [
        "<a href=\"https://colab.research.google.com/github/foryoudrizzle14/AI-/blob/main/3%EC%A3%BC%EC%B0%A8_%EC%88%98%EC%97%85.ipynb\" target=\"_parent\"><img src=\"https://colab.research.google.com/assets/colab-badge.svg\" alt=\"Open In Colab\"/></a>"
      ]
    },
    {
      "cell_type": "markdown",
      "source": [
        "# 3주차 DNN"
      ],
      "metadata": {
        "id": "63LrARI3xXLG"
      }
    },
    {
      "cell_type": "markdown",
      "source": [
        "## XOR 문제"
      ],
      "metadata": {
        "id": "JtygdIJ4xaPT"
      }
    },
    {
      "cell_type": "code",
      "execution_count": null,
      "metadata": {
        "id": "uG2MtYi5lP_j"
      },
      "outputs": [],
      "source": [
        "import torch\n",
        "import numpy as np\n",
        "import torch.nn as nn\n",
        "import torch.optim as optim\n",
        "import torch.nn.functional as F"
      ]
    },
    {
      "cell_type": "code",
      "source": [
        "torch.cuda.is_available()"
      ],
      "metadata": {
        "colab": {
          "base_uri": "https://localhost:8080/"
        },
        "id": "uRWTK29iJplq",
        "outputId": "8e2df5e9-8e27-44f5-dea8-08df292ec867"
      },
      "execution_count": null,
      "outputs": [
        {
          "output_type": "execute_result",
          "data": {
            "text/plain": [
              "True"
            ]
          },
          "metadata": {},
          "execution_count": 3
        }
      ]
    },
    {
      "cell_type": "code",
      "source": [
        "device = 'cuda' if torch.cuda.is_available() else 'cpu'"
      ],
      "metadata": {
        "id": "1ozKl8VrJMum"
      },
      "execution_count": null,
      "outputs": []
    },
    {
      "cell_type": "code",
      "source": [
        "device"
      ],
      "metadata": {
        "colab": {
          "base_uri": "https://localhost:8080/",
          "height": 35
        },
        "id": "MBX5BUK-JvXI",
        "outputId": "b824632e-921d-4e35-ee0e-cde3940d3db1"
      },
      "execution_count": null,
      "outputs": [
        {
          "output_type": "execute_result",
          "data": {
            "text/plain": [
              "'cuda'"
            ],
            "application/vnd.google.colaboratory.intrinsic+json": {
              "type": "string"
            }
          },
          "metadata": {},
          "execution_count": 5
        }
      ]
    },
    {
      "cell_type": "code",
      "source": [
        "X = torch.FloatTensor([[0, 0], [0, 1], [1, 0], [1, 1]]).to(device)\n",
        "Y = torch.FloatTensor([[0], [1], [1], [0]]).to(device)"
      ],
      "metadata": {
        "id": "Hdz0dp1TJxYl"
      },
      "execution_count": null,
      "outputs": []
    },
    {
      "cell_type": "code",
      "source": [
        "linear = nn.Linear(2,1, bias=True)\n",
        "sigmoid = nn.Sigmoid()\n",
        "model = nn.Sequential(linear,\n",
        "                      sigmoid).to(device)"
      ],
      "metadata": {
        "id": "RIQzBGxQJ8y-"
      },
      "execution_count": null,
      "outputs": []
    },
    {
      "cell_type": "code",
      "source": [
        "loss_fn = torch.nn.BCELoss().to(device)\n",
        "optimizer = torch.optim.SGD(model.parameters(), lr=1)"
      ],
      "metadata": {
        "id": "R_tAIBWfKSZ3"
      },
      "execution_count": null,
      "outputs": []
    },
    {
      "cell_type": "code",
      "source": [
        "def train_model(epoch):\n",
        "    for step in range(epoch):\n",
        "        pred = model(X)\n",
        "        cost = loss_fn(pred, Y)\n",
        "\n",
        "        optimizer.zero_grad()\n",
        "        cost.backward()\n",
        "        optimizer.step()\n",
        "\n",
        "        if step % 1000 == 0:\n",
        "          print(step, cost.item())\n",
        "\n"
      ],
      "metadata": {
        "id": "O-epWcOTKtMj"
      },
      "execution_count": null,
      "outputs": []
    },
    {
      "cell_type": "code",
      "source": [
        "train_model(10001)"
      ],
      "metadata": {
        "colab": {
          "base_uri": "https://localhost:8080/"
        },
        "id": "TEcWXO0ZLQVH",
        "outputId": "86678799-5a6d-4ffe-c11f-29dec049eead"
      },
      "execution_count": null,
      "outputs": [
        {
          "output_type": "stream",
          "name": "stdout",
          "text": [
            "0 0.7099932432174683\n",
            "1000 0.6931471824645996\n",
            "2000 0.6931471824645996\n",
            "3000 0.6931471824645996\n",
            "4000 0.6931471824645996\n",
            "5000 0.6931471824645996\n",
            "6000 0.6931471824645996\n",
            "7000 0.6931471824645996\n",
            "8000 0.6931471824645996\n",
            "9000 0.6931471824645996\n",
            "10000 0.6931471824645996\n"
          ]
        }
      ]
    },
    {
      "cell_type": "code",
      "source": [
        "def evaluation():\n",
        "    model.eval()\n",
        "    with torch.no_grad():\n",
        "        pred = model(X)\n",
        "        predicted = (pred > 0.5).float()\n",
        "        accuracy = (predicted == Y).float().mean()\n",
        "        print('모델의 출력값(Hypothesis): ', pred.detach().cpu().numpy())\n",
        "        print('모델의 예측값(Predicted): ', predicted.detach().cpu().numpy())\n",
        "        print('실제값(Y): ', Y.cpu().numpy())\n",
        "        print('정확도(Accuracy): ', accuracy.item())"
      ],
      "metadata": {
        "id": "1YIBbE-6LYXX"
      },
      "execution_count": null,
      "outputs": []
    },
    {
      "cell_type": "code",
      "source": [
        "evaluation()"
      ],
      "metadata": {
        "colab": {
          "base_uri": "https://localhost:8080/"
        },
        "id": "XVOiTd-6LbCh",
        "outputId": "19b1bfe7-0e18-431b-b25f-304696ae58ba"
      },
      "execution_count": null,
      "outputs": [
        {
          "output_type": "stream",
          "name": "stdout",
          "text": [
            "모델의 출력값(Hypothesis):  [[0.5]\n",
            " [0.5]\n",
            " [0.5]\n",
            " [0.5]]\n",
            "모델의 예측값(Predicted):  [[0.]\n",
            " [0.]\n",
            " [0.]\n",
            " [0.]]\n",
            "실제값(Y):  [[0.]\n",
            " [1.]\n",
            " [1.]\n",
            " [0.]]\n",
            "정확도(Accuracy):  0.5\n"
          ]
        }
      ]
    },
    {
      "cell_type": "markdown",
      "source": [
        "DNN(XOR)"
      ],
      "metadata": {
        "id": "59o2nHg0MwPX"
      }
    },
    {
      "cell_type": "code",
      "source": [
        "model = nn.Sequential(nn.Linear(2, 10),\n",
        "                      nn.Sigmoid(),\n",
        "                      nn.Linear(10, 10),\n",
        "                      nn.Sigmoid(),\n",
        "                      nn.Linear(10, 10),\n",
        "                      nn.Sigmoid(),\n",
        "                      nn.Linear(10, 1),\n",
        "                      nn.Sigmoid()\n",
        "                      ).to(device)"
      ],
      "metadata": {
        "id": "LueU7eugMv4h"
      },
      "execution_count": null,
      "outputs": []
    },
    {
      "cell_type": "code",
      "source": [
        "loss_fn = torch.nn.BCELoss().to(device)\n",
        "optimizer = torch.optim.SGD(model.parameters(), lr=1)"
      ],
      "metadata": {
        "id": "lrrclnnjNIv9"
      },
      "execution_count": null,
      "outputs": []
    },
    {
      "cell_type": "code",
      "source": [
        "train_model(10001)"
      ],
      "metadata": {
        "colab": {
          "base_uri": "https://localhost:8080/"
        },
        "id": "55KRkOPiNKtd",
        "outputId": "6b5e0b00-c73a-4f8d-acfd-96681f807fad"
      },
      "execution_count": null,
      "outputs": [
        {
          "output_type": "stream",
          "name": "stdout",
          "text": [
            "0 0.6937591433525085\n",
            "1000 0.6931439638137817\n",
            "2000 0.693138062953949\n",
            "3000 0.6931298971176147\n",
            "4000 0.6931158304214478\n",
            "5000 0.6930845975875854\n",
            "6000 0.6929795145988464\n",
            "7000 0.6916526556015015\n",
            "8000 0.0025153213646262884\n",
            "9000 0.0006270514568313956\n",
            "10000 0.0003462415188550949\n"
          ]
        }
      ]
    },
    {
      "cell_type": "code",
      "source": [
        "evaluation()"
      ],
      "metadata": {
        "colab": {
          "base_uri": "https://localhost:8080/"
        },
        "id": "9DI33yY8Nfar",
        "outputId": "ff773809-43d8-4c2c-b190-46656cc8cd34"
      },
      "execution_count": null,
      "outputs": [
        {
          "output_type": "stream",
          "name": "stdout",
          "text": [
            "모델의 출력값(Hypothesis):  [[2.6845955e-04]\n",
            " [9.9966311e-01]\n",
            " [9.9964714e-01]\n",
            " [4.2584070e-04]]\n",
            "모델의 예측값(Predicted):  [[0.]\n",
            " [1.]\n",
            " [1.]\n",
            " [0.]]\n",
            "실제값(Y):  [[0.]\n",
            " [1.]\n",
            " [1.]\n",
            " [0.]]\n",
            "정확도(Accuracy):  1.0\n"
          ]
        }
      ]
    },
    {
      "cell_type": "code",
      "source": [
        "step = 999\n",
        "\n",
        "step % 1000 == 0"
      ],
      "metadata": {
        "colab": {
          "base_uri": "https://localhost:8080/"
        },
        "id": "M-tgEB1NNx3L",
        "outputId": "17f0faee-2eaa-4945-9626-6152df00f95d"
      },
      "execution_count": null,
      "outputs": [
        {
          "output_type": "execute_result",
          "data": {
            "text/plain": [
              "False"
            ]
          },
          "metadata": {},
          "execution_count": 23
        }
      ]
    },
    {
      "cell_type": "markdown",
      "source": [
        "과제"
      ],
      "metadata": {
        "id": "8PlFmEtBOLBd"
      }
    },
    {
      "cell_type": "code",
      "source": [
        "import torch\n",
        "import torch.nn\n",
        "from torch.utils.data import DataLoader, TensorDataset\n",
        "from sklearn.datasets import load_iris\n",
        "from sklearn.model_selection import train_test_split\n",
        "from sklearn.preprocessing import StandardScaler\n",
        "import pandas as pd\n",
        "\n",
        "# 데이터 로드\n",
        "iris = load_iris()\n",
        "X, y = iris.data, iris.target\n",
        "\n",
        "# 데이터 프레임으로 변환\n",
        "df = pd.DataFrame(X, columns=iris.feature_names)\n",
        "df['target'] = y\n",
        "\n",
        "# 데이터 분할\n",
        "X_train, X_test, y_train, y_test = train_test_split(X, y, test_size=0.2, random_state=42)\n",
        "\n",
        "# 데이터 정규화\n",
        "scaler = StandardScaler()\n",
        "X_train_scaled = scaler.fit_transform(X_train)\n",
        "X_test_scaled = scaler.transform(X_test)\n",
        "\n",
        "# 텐서로 변환\n",
        "X_train_tensor = torch.tensor(X_train_scaled, dtype=torch.float32)\n",
        "X_test_tensor = torch.tensor(X_test_scaled, dtype=torch.float32)\n",
        "y_train_tensor = torch.tensor(y_train, dtype=torch.int64)\n",
        "y_test_tensor = torch.tensor(y_test, dtype=torch.int64)\n",
        "\n",
        "# 데이터 로더 생성\n",
        "train_dataset = TensorDataset(X_train_tensor, y_train_tensor)\n",
        "train_loader = DataLoader(train_dataset, batch_size=16, shuffle=True)"
      ],
      "metadata": {
        "id": "Wyt9VeOvOCXC"
      },
      "execution_count": null,
      "outputs": []
    },
    {
      "cell_type": "markdown",
      "source": [
        "클래스 > nn.Sequential로 바꾸기\n",
        "or 클래스 구조 바꾸기(네트워크 바꾸기)"
      ],
      "metadata": {
        "id": "oo0-m9tIPHoX"
      }
    },
    {
      "cell_type": "code",
      "source": [
        "class IrisNet(nn.Module):\n",
        "    def __init__(self):\n",
        "        super(IrisNet, self).__init__()\n",
        "        self.fc1 = nn.Linear(4, 50) # 입력 특성은 4개, 첫 번째 은닉층 노드는 50개\n",
        "        self.fc2 = nn.Linear(50, 3) # 출력 클래스는 3개\n",
        "\n",
        "    def forward(self, x):\n",
        "        x = torch.relu(self.fc1(x))\n",
        "        x = self.fc2(x)\n",
        "        return x\n",
        "\n",
        "model = IrisNet()"
      ],
      "metadata": {
        "id": "pFJ7kVaoOZkJ"
      },
      "execution_count": null,
      "outputs": []
    },
    {
      "cell_type": "code",
      "source": [
        "criterion = nn.CrossEntropyLoss()\n",
        "optimizer = torch.optim.Adam(model.parameters(), lr=0.01)\n",
        "\n",
        "# 학습 과정\n",
        "epochs = 100\n",
        "for epoch in range(epochs):\n",
        "    for inputs, labels in train_loader:\n",
        "        optimizer.zero_grad()\n",
        "        outputs = model(inputs)\n",
        "        loss = criterion(outputs, labels)\n",
        "        loss.backward()\n",
        "        optimizer.step()\n",
        "\n",
        "    if (epoch+1) % 10 == 0:\n",
        "        print(f'Epoch {epoch+1}/{epochs}, Loss: {loss.item():.4f}')"
      ],
      "metadata": {
        "colab": {
          "base_uri": "https://localhost:8080/"
        },
        "id": "yeHtP-ASOYMi",
        "outputId": "a1e6d130-3582-4e16-8abc-bf903e0df997"
      },
      "execution_count": null,
      "outputs": [
        {
          "output_type": "stream",
          "name": "stdout",
          "text": [
            "Epoch 10/100, Loss: 0.2412\n",
            "Epoch 20/100, Loss: 0.0030\n",
            "Epoch 30/100, Loss: 0.0053\n",
            "Epoch 40/100, Loss: 0.0058\n",
            "Epoch 50/100, Loss: 0.0081\n",
            "Epoch 60/100, Loss: 0.3678\n",
            "Epoch 70/100, Loss: 0.0020\n",
            "Epoch 80/100, Loss: 0.0004\n",
            "Epoch 90/100, Loss: 0.0102\n",
            "Epoch 100/100, Loss: 0.2065\n"
          ]
        }
      ]
    },
    {
      "cell_type": "markdown",
      "source": [
        "Softmax 평가함수\n",
        "\n",
        "3가지 종류의 Species를 분류\n",
        "\n",
        "[0.5, 0.7, 0.1]\n",
        "\n",
        "=> 가장 큰 값의 index\n",
        "\n",
        "armax"
      ],
      "metadata": {
        "id": "9mAoXLW6OvOS"
      }
    },
    {
      "cell_type": "code",
      "source": [],
      "metadata": {
        "id": "Njrq7bX-OhL_"
      },
      "execution_count": null,
      "outputs": []
    }
  ]
}
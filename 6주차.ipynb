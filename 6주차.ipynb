{
  "nbformat": 4,
  "nbformat_minor": 0,
  "metadata": {
    "colab": {
      "provenance": [],
      "include_colab_link": true
    },
    "kernelspec": {
      "name": "python3",
      "display_name": "Python 3"
    },
    "language_info": {
      "name": "python"
    }
  },
  "cells": [
    {
      "cell_type": "markdown",
      "metadata": {
        "id": "view-in-github",
        "colab_type": "text"
      },
      "source": [
        "<a href=\"https://colab.research.google.com/github/foryoudrizzle14/AI-/blob/main/6%EC%A3%BC%EC%B0%A8.ipynb\" target=\"_parent\"><img src=\"https://colab.research.google.com/assets/colab-badge.svg\" alt=\"Open In Colab\"/></a>"
      ]
    },
    {
      "cell_type": "markdown",
      "source": [
        "#고객행동예측\n",
        "User Churn Model in E-Commerce Retail\n",
        "\n",
        "데이터 : https://www.kaggle.com/datasets/fridrichmrtn/user-churn-dataset\n",
        "\n",
        "원본 : https://www.kaggle.com/datasets/retailrocket/ecommerce-dataset\n",
        "\n",
        "논문 : https://editorial.upce.cz/1804-8048/30/1/1478"
      ],
      "metadata": {
        "id": "56f8Ysic5VMq"
      }
    },
    {
      "cell_type": "code",
      "execution_count": null,
      "metadata": {
        "colab": {
          "base_uri": "https://localhost:8080/"
        },
        "id": "1iYMrcXJ5Tzu",
        "outputId": "624438fd-3038-41c6-c58d-b7f518a96a2a"
      },
      "outputs": [
        {
          "output_type": "stream",
          "name": "stdout",
          "text": [
            "Drive already mounted at /content/drive; to attempt to forcibly remount, call drive.mount(\"/content/drive\", force_remount=True).\n"
          ]
        }
      ],
      "source": [
        "from google.colab import drive\n",
        "drive.mount('/content/drive')"
      ]
    },
    {
      "cell_type": "code",
      "source": [
        "import pandas as pd\n",
        "import numpy as np\n",
        "import matplotlib.pyplot as plt\n",
        "import seaborn as sns"
      ],
      "metadata": {
        "id": "gF2gHIh17Fhh"
      },
      "execution_count": null,
      "outputs": []
    },
    {
      "cell_type": "code",
      "source": [
        "cust_data = pd.read_csv('/content/drive/MyDrive/강의자료/9기A반(딥러닝)/week6/ecom-user-churn-data.csv')"
      ],
      "metadata": {
        "id": "3hy3Afrq7HKy"
      },
      "execution_count": null,
      "outputs": []
    },
    {
      "cell_type": "code",
      "source": [
        "cust_data.head()"
      ],
      "metadata": {
        "colab": {
          "base_uri": "https://localhost:8080/",
          "height": 256
        },
        "id": "a7AmulX3FGOM",
        "outputId": "5d0c0234-b7e1-4cb9-d323-1e1d9a6c3926"
      },
      "execution_count": null,
      "outputs": [
        {
          "output_type": "execute_result",
          "data": {
            "text/plain": [
              "   visitorid  ses_rec  ses_rec_avg  ses_rec_sd  ses_rec_cv  user_rec  ses_n  \\\n",
              "0         89     23.0         16.0         0.0         0.0      39.0    2.0   \n",
              "1        251     23.0         61.0         0.0         0.0      85.0    2.0   \n",
              "2        270     14.0          0.1         0.3         3.0      21.0   11.0   \n",
              "3        298     11.0         13.0         0.0         0.0      24.0    2.0   \n",
              "4        474     16.0         26.0         0.0         0.0      43.0    2.0   \n",
              "\n",
              "    ses_n_r  int_n   int_n_r  ...  int_cat16_n  int_cat17_n  int_cat18_n  \\\n",
              "0  0.051282    3.0  1.500000  ...            0            0            0   \n",
              "1  0.023529    2.0  1.000000  ...            0            0            0   \n",
              "2  0.523810   13.0  1.181818  ...            0            0            0   \n",
              "3  0.083333    4.0  2.000000  ...            0            0            0   \n",
              "4  0.046512    2.0  1.000000  ...            2            0            0   \n",
              "\n",
              "   int_cat19_n  int_cat20_n  int_cat21_n  int_cat22_n  int_cat23_n  \\\n",
              "0            0            3            0            0            0   \n",
              "1            0            0            0            1            0   \n",
              "2            0            0            0           13            0   \n",
              "3            3            1            0            0            0   \n",
              "4            0            0            0            0            0   \n",
              "\n",
              "   int_cat24_n  target_class  \n",
              "0            0             1  \n",
              "1            0             1  \n",
              "2            0             1  \n",
              "3            0             1  \n",
              "4            0             1  \n",
              "\n",
              "[5 rows x 49 columns]"
            ],
            "text/html": [
              "\n",
              "  <div id=\"df-ea184a1e-49e9-4211-9fb8-9afefb8cda74\" class=\"colab-df-container\">\n",
              "    <div>\n",
              "<style scoped>\n",
              "    .dataframe tbody tr th:only-of-type {\n",
              "        vertical-align: middle;\n",
              "    }\n",
              "\n",
              "    .dataframe tbody tr th {\n",
              "        vertical-align: top;\n",
              "    }\n",
              "\n",
              "    .dataframe thead th {\n",
              "        text-align: right;\n",
              "    }\n",
              "</style>\n",
              "<table border=\"1\" class=\"dataframe\">\n",
              "  <thead>\n",
              "    <tr style=\"text-align: right;\">\n",
              "      <th></th>\n",
              "      <th>visitorid</th>\n",
              "      <th>ses_rec</th>\n",
              "      <th>ses_rec_avg</th>\n",
              "      <th>ses_rec_sd</th>\n",
              "      <th>ses_rec_cv</th>\n",
              "      <th>user_rec</th>\n",
              "      <th>ses_n</th>\n",
              "      <th>ses_n_r</th>\n",
              "      <th>int_n</th>\n",
              "      <th>int_n_r</th>\n",
              "      <th>...</th>\n",
              "      <th>int_cat16_n</th>\n",
              "      <th>int_cat17_n</th>\n",
              "      <th>int_cat18_n</th>\n",
              "      <th>int_cat19_n</th>\n",
              "      <th>int_cat20_n</th>\n",
              "      <th>int_cat21_n</th>\n",
              "      <th>int_cat22_n</th>\n",
              "      <th>int_cat23_n</th>\n",
              "      <th>int_cat24_n</th>\n",
              "      <th>target_class</th>\n",
              "    </tr>\n",
              "  </thead>\n",
              "  <tbody>\n",
              "    <tr>\n",
              "      <th>0</th>\n",
              "      <td>89</td>\n",
              "      <td>23.0</td>\n",
              "      <td>16.0</td>\n",
              "      <td>0.0</td>\n",
              "      <td>0.0</td>\n",
              "      <td>39.0</td>\n",
              "      <td>2.0</td>\n",
              "      <td>0.051282</td>\n",
              "      <td>3.0</td>\n",
              "      <td>1.500000</td>\n",
              "      <td>...</td>\n",
              "      <td>0</td>\n",
              "      <td>0</td>\n",
              "      <td>0</td>\n",
              "      <td>0</td>\n",
              "      <td>3</td>\n",
              "      <td>0</td>\n",
              "      <td>0</td>\n",
              "      <td>0</td>\n",
              "      <td>0</td>\n",
              "      <td>1</td>\n",
              "    </tr>\n",
              "    <tr>\n",
              "      <th>1</th>\n",
              "      <td>251</td>\n",
              "      <td>23.0</td>\n",
              "      <td>61.0</td>\n",
              "      <td>0.0</td>\n",
              "      <td>0.0</td>\n",
              "      <td>85.0</td>\n",
              "      <td>2.0</td>\n",
              "      <td>0.023529</td>\n",
              "      <td>2.0</td>\n",
              "      <td>1.000000</td>\n",
              "      <td>...</td>\n",
              "      <td>0</td>\n",
              "      <td>0</td>\n",
              "      <td>0</td>\n",
              "      <td>0</td>\n",
              "      <td>0</td>\n",
              "      <td>0</td>\n",
              "      <td>1</td>\n",
              "      <td>0</td>\n",
              "      <td>0</td>\n",
              "      <td>1</td>\n",
              "    </tr>\n",
              "    <tr>\n",
              "      <th>2</th>\n",
              "      <td>270</td>\n",
              "      <td>14.0</td>\n",
              "      <td>0.1</td>\n",
              "      <td>0.3</td>\n",
              "      <td>3.0</td>\n",
              "      <td>21.0</td>\n",
              "      <td>11.0</td>\n",
              "      <td>0.523810</td>\n",
              "      <td>13.0</td>\n",
              "      <td>1.181818</td>\n",
              "      <td>...</td>\n",
              "      <td>0</td>\n",
              "      <td>0</td>\n",
              "      <td>0</td>\n",
              "      <td>0</td>\n",
              "      <td>0</td>\n",
              "      <td>0</td>\n",
              "      <td>13</td>\n",
              "      <td>0</td>\n",
              "      <td>0</td>\n",
              "      <td>1</td>\n",
              "    </tr>\n",
              "    <tr>\n",
              "      <th>3</th>\n",
              "      <td>298</td>\n",
              "      <td>11.0</td>\n",
              "      <td>13.0</td>\n",
              "      <td>0.0</td>\n",
              "      <td>0.0</td>\n",
              "      <td>24.0</td>\n",
              "      <td>2.0</td>\n",
              "      <td>0.083333</td>\n",
              "      <td>4.0</td>\n",
              "      <td>2.000000</td>\n",
              "      <td>...</td>\n",
              "      <td>0</td>\n",
              "      <td>0</td>\n",
              "      <td>0</td>\n",
              "      <td>3</td>\n",
              "      <td>1</td>\n",
              "      <td>0</td>\n",
              "      <td>0</td>\n",
              "      <td>0</td>\n",
              "      <td>0</td>\n",
              "      <td>1</td>\n",
              "    </tr>\n",
              "    <tr>\n",
              "      <th>4</th>\n",
              "      <td>474</td>\n",
              "      <td>16.0</td>\n",
              "      <td>26.0</td>\n",
              "      <td>0.0</td>\n",
              "      <td>0.0</td>\n",
              "      <td>43.0</td>\n",
              "      <td>2.0</td>\n",
              "      <td>0.046512</td>\n",
              "      <td>2.0</td>\n",
              "      <td>1.000000</td>\n",
              "      <td>...</td>\n",
              "      <td>2</td>\n",
              "      <td>0</td>\n",
              "      <td>0</td>\n",
              "      <td>0</td>\n",
              "      <td>0</td>\n",
              "      <td>0</td>\n",
              "      <td>0</td>\n",
              "      <td>0</td>\n",
              "      <td>0</td>\n",
              "      <td>1</td>\n",
              "    </tr>\n",
              "  </tbody>\n",
              "</table>\n",
              "<p>5 rows × 49 columns</p>\n",
              "</div>\n",
              "    <div class=\"colab-df-buttons\">\n",
              "\n",
              "  <div class=\"colab-df-container\">\n",
              "    <button class=\"colab-df-convert\" onclick=\"convertToInteractive('df-ea184a1e-49e9-4211-9fb8-9afefb8cda74')\"\n",
              "            title=\"Convert this dataframe to an interactive table.\"\n",
              "            style=\"display:none;\">\n",
              "\n",
              "  <svg xmlns=\"http://www.w3.org/2000/svg\" height=\"24px\" viewBox=\"0 -960 960 960\">\n",
              "    <path d=\"M120-120v-720h720v720H120Zm60-500h600v-160H180v160Zm220 220h160v-160H400v160Zm0 220h160v-160H400v160ZM180-400h160v-160H180v160Zm440 0h160v-160H620v160ZM180-180h160v-160H180v160Zm440 0h160v-160H620v160Z\"/>\n",
              "  </svg>\n",
              "    </button>\n",
              "\n",
              "  <style>\n",
              "    .colab-df-container {\n",
              "      display:flex;\n",
              "      gap: 12px;\n",
              "    }\n",
              "\n",
              "    .colab-df-convert {\n",
              "      background-color: #E8F0FE;\n",
              "      border: none;\n",
              "      border-radius: 50%;\n",
              "      cursor: pointer;\n",
              "      display: none;\n",
              "      fill: #1967D2;\n",
              "      height: 32px;\n",
              "      padding: 0 0 0 0;\n",
              "      width: 32px;\n",
              "    }\n",
              "\n",
              "    .colab-df-convert:hover {\n",
              "      background-color: #E2EBFA;\n",
              "      box-shadow: 0px 1px 2px rgba(60, 64, 67, 0.3), 0px 1px 3px 1px rgba(60, 64, 67, 0.15);\n",
              "      fill: #174EA6;\n",
              "    }\n",
              "\n",
              "    .colab-df-buttons div {\n",
              "      margin-bottom: 4px;\n",
              "    }\n",
              "\n",
              "    [theme=dark] .colab-df-convert {\n",
              "      background-color: #3B4455;\n",
              "      fill: #D2E3FC;\n",
              "    }\n",
              "\n",
              "    [theme=dark] .colab-df-convert:hover {\n",
              "      background-color: #434B5C;\n",
              "      box-shadow: 0px 1px 3px 1px rgba(0, 0, 0, 0.15);\n",
              "      filter: drop-shadow(0px 1px 2px rgba(0, 0, 0, 0.3));\n",
              "      fill: #FFFFFF;\n",
              "    }\n",
              "  </style>\n",
              "\n",
              "    <script>\n",
              "      const buttonEl =\n",
              "        document.querySelector('#df-ea184a1e-49e9-4211-9fb8-9afefb8cda74 button.colab-df-convert');\n",
              "      buttonEl.style.display =\n",
              "        google.colab.kernel.accessAllowed ? 'block' : 'none';\n",
              "\n",
              "      async function convertToInteractive(key) {\n",
              "        const element = document.querySelector('#df-ea184a1e-49e9-4211-9fb8-9afefb8cda74');\n",
              "        const dataTable =\n",
              "          await google.colab.kernel.invokeFunction('convertToInteractive',\n",
              "                                                    [key], {});\n",
              "        if (!dataTable) return;\n",
              "\n",
              "        const docLinkHtml = 'Like what you see? Visit the ' +\n",
              "          '<a target=\"_blank\" href=https://colab.research.google.com/notebooks/data_table.ipynb>data table notebook</a>'\n",
              "          + ' to learn more about interactive tables.';\n",
              "        element.innerHTML = '';\n",
              "        dataTable['output_type'] = 'display_data';\n",
              "        await google.colab.output.renderOutput(dataTable, element);\n",
              "        const docLink = document.createElement('div');\n",
              "        docLink.innerHTML = docLinkHtml;\n",
              "        element.appendChild(docLink);\n",
              "      }\n",
              "    </script>\n",
              "  </div>\n",
              "\n",
              "\n",
              "<div id=\"df-503789ac-0c03-4f09-9c88-9b39f4de032f\">\n",
              "  <button class=\"colab-df-quickchart\" onclick=\"quickchart('df-503789ac-0c03-4f09-9c88-9b39f4de032f')\"\n",
              "            title=\"Suggest charts\"\n",
              "            style=\"display:none;\">\n",
              "\n",
              "<svg xmlns=\"http://www.w3.org/2000/svg\" height=\"24px\"viewBox=\"0 0 24 24\"\n",
              "     width=\"24px\">\n",
              "    <g>\n",
              "        <path d=\"M19 3H5c-1.1 0-2 .9-2 2v14c0 1.1.9 2 2 2h14c1.1 0 2-.9 2-2V5c0-1.1-.9-2-2-2zM9 17H7v-7h2v7zm4 0h-2V7h2v10zm4 0h-2v-4h2v4z\"/>\n",
              "    </g>\n",
              "</svg>\n",
              "  </button>\n",
              "\n",
              "<style>\n",
              "  .colab-df-quickchart {\n",
              "      --bg-color: #E8F0FE;\n",
              "      --fill-color: #1967D2;\n",
              "      --hover-bg-color: #E2EBFA;\n",
              "      --hover-fill-color: #174EA6;\n",
              "      --disabled-fill-color: #AAA;\n",
              "      --disabled-bg-color: #DDD;\n",
              "  }\n",
              "\n",
              "  [theme=dark] .colab-df-quickchart {\n",
              "      --bg-color: #3B4455;\n",
              "      --fill-color: #D2E3FC;\n",
              "      --hover-bg-color: #434B5C;\n",
              "      --hover-fill-color: #FFFFFF;\n",
              "      --disabled-bg-color: #3B4455;\n",
              "      --disabled-fill-color: #666;\n",
              "  }\n",
              "\n",
              "  .colab-df-quickchart {\n",
              "    background-color: var(--bg-color);\n",
              "    border: none;\n",
              "    border-radius: 50%;\n",
              "    cursor: pointer;\n",
              "    display: none;\n",
              "    fill: var(--fill-color);\n",
              "    height: 32px;\n",
              "    padding: 0;\n",
              "    width: 32px;\n",
              "  }\n",
              "\n",
              "  .colab-df-quickchart:hover {\n",
              "    background-color: var(--hover-bg-color);\n",
              "    box-shadow: 0 1px 2px rgba(60, 64, 67, 0.3), 0 1px 3px 1px rgba(60, 64, 67, 0.15);\n",
              "    fill: var(--button-hover-fill-color);\n",
              "  }\n",
              "\n",
              "  .colab-df-quickchart-complete:disabled,\n",
              "  .colab-df-quickchart-complete:disabled:hover {\n",
              "    background-color: var(--disabled-bg-color);\n",
              "    fill: var(--disabled-fill-color);\n",
              "    box-shadow: none;\n",
              "  }\n",
              "\n",
              "  .colab-df-spinner {\n",
              "    border: 2px solid var(--fill-color);\n",
              "    border-color: transparent;\n",
              "    border-bottom-color: var(--fill-color);\n",
              "    animation:\n",
              "      spin 1s steps(1) infinite;\n",
              "  }\n",
              "\n",
              "  @keyframes spin {\n",
              "    0% {\n",
              "      border-color: transparent;\n",
              "      border-bottom-color: var(--fill-color);\n",
              "      border-left-color: var(--fill-color);\n",
              "    }\n",
              "    20% {\n",
              "      border-color: transparent;\n",
              "      border-left-color: var(--fill-color);\n",
              "      border-top-color: var(--fill-color);\n",
              "    }\n",
              "    30% {\n",
              "      border-color: transparent;\n",
              "      border-left-color: var(--fill-color);\n",
              "      border-top-color: var(--fill-color);\n",
              "      border-right-color: var(--fill-color);\n",
              "    }\n",
              "    40% {\n",
              "      border-color: transparent;\n",
              "      border-right-color: var(--fill-color);\n",
              "      border-top-color: var(--fill-color);\n",
              "    }\n",
              "    60% {\n",
              "      border-color: transparent;\n",
              "      border-right-color: var(--fill-color);\n",
              "    }\n",
              "    80% {\n",
              "      border-color: transparent;\n",
              "      border-right-color: var(--fill-color);\n",
              "      border-bottom-color: var(--fill-color);\n",
              "    }\n",
              "    90% {\n",
              "      border-color: transparent;\n",
              "      border-bottom-color: var(--fill-color);\n",
              "    }\n",
              "  }\n",
              "</style>\n",
              "\n",
              "  <script>\n",
              "    async function quickchart(key) {\n",
              "      const quickchartButtonEl =\n",
              "        document.querySelector('#' + key + ' button');\n",
              "      quickchartButtonEl.disabled = true;  // To prevent multiple clicks.\n",
              "      quickchartButtonEl.classList.add('colab-df-spinner');\n",
              "      try {\n",
              "        const charts = await google.colab.kernel.invokeFunction(\n",
              "            'suggestCharts', [key], {});\n",
              "      } catch (error) {\n",
              "        console.error('Error during call to suggestCharts:', error);\n",
              "      }\n",
              "      quickchartButtonEl.classList.remove('colab-df-spinner');\n",
              "      quickchartButtonEl.classList.add('colab-df-quickchart-complete');\n",
              "    }\n",
              "    (() => {\n",
              "      let quickchartButtonEl =\n",
              "        document.querySelector('#df-503789ac-0c03-4f09-9c88-9b39f4de032f button');\n",
              "      quickchartButtonEl.style.display =\n",
              "        google.colab.kernel.accessAllowed ? 'block' : 'none';\n",
              "    })();\n",
              "  </script>\n",
              "</div>\n",
              "\n",
              "    </div>\n",
              "  </div>\n"
            ],
            "application/vnd.google.colaboratory.intrinsic+json": {
              "type": "dataframe",
              "variable_name": "cust_data"
            }
          },
          "metadata": {},
          "execution_count": 6
        }
      ]
    },
    {
      "cell_type": "code",
      "source": [
        "cust_data.info()"
      ],
      "metadata": {
        "colab": {
          "base_uri": "https://localhost:8080/"
        },
        "id": "tveZbe5-FWzy",
        "outputId": "e75eb9db-a065-4060-c501-25f5900aa333"
      },
      "execution_count": null,
      "outputs": [
        {
          "output_type": "stream",
          "name": "stdout",
          "text": [
            "<class 'pandas.core.frame.DataFrame'>\n",
            "RangeIndex: 49358 entries, 0 to 49357\n",
            "Data columns (total 49 columns):\n",
            " #   Column         Non-Null Count  Dtype  \n",
            "---  ------         --------------  -----  \n",
            " 0   visitorid      49358 non-null  int64  \n",
            " 1   ses_rec        49358 non-null  float64\n",
            " 2   ses_rec_avg    49358 non-null  float64\n",
            " 3   ses_rec_sd     49358 non-null  float64\n",
            " 4   ses_rec_cv     49358 non-null  float64\n",
            " 5   user_rec       49358 non-null  float64\n",
            " 6   ses_n          49358 non-null  float64\n",
            " 7   ses_n_r        49358 non-null  float64\n",
            " 8   int_n          49358 non-null  float64\n",
            " 9   int_n_r        49358 non-null  float64\n",
            " 10  tran_n         49358 non-null  float64\n",
            " 11  tran_n_r       49358 non-null  float64\n",
            " 12  rev_sum        49358 non-null  float64\n",
            " 13  rev_sum_r      49358 non-null  float64\n",
            " 14  major_spend_r  49358 non-null  float64\n",
            " 15  int_cat_n_avg  49358 non-null  float64\n",
            " 16  int_itm_n_avg  49358 non-null  float64\n",
            " 17  ses_mo_avg     49358 non-null  float64\n",
            " 18  ses_mo_sd      49358 non-null  float64\n",
            " 19  ses_ho_avg     49358 non-null  float64\n",
            " 20  ses_ho_sd      49358 non-null  float64\n",
            " 21  ses_wknd_r     49358 non-null  float64\n",
            " 22  ses_len_avg    49358 non-null  float64\n",
            " 23  time_to_int    49358 non-null  float64\n",
            " 24  time_to_tran   49358 non-null  float64\n",
            " 25  int_cat1_n     49358 non-null  int64  \n",
            " 26  int_cat2_n     49358 non-null  int64  \n",
            " 27  int_cat3_n     49358 non-null  int64  \n",
            " 28  int_cat4_n     49358 non-null  int64  \n",
            " 29  int_cat5_n     49358 non-null  int64  \n",
            " 30  int_cat6_n     49358 non-null  int64  \n",
            " 31  int_cat7_n     49358 non-null  int64  \n",
            " 32  int_cat8_n     49358 non-null  int64  \n",
            " 33  int_cat9_n     49358 non-null  int64  \n",
            " 34  int_cat10_n    49358 non-null  int64  \n",
            " 35  int_cat11_n    49358 non-null  int64  \n",
            " 36  int_cat12_n    49358 non-null  int64  \n",
            " 37  int_cat13_n    49358 non-null  int64  \n",
            " 38  int_cat15_n    49358 non-null  int64  \n",
            " 39  int_cat16_n    49358 non-null  int64  \n",
            " 40  int_cat17_n    49358 non-null  int64  \n",
            " 41  int_cat18_n    49358 non-null  int64  \n",
            " 42  int_cat19_n    49358 non-null  int64  \n",
            " 43  int_cat20_n    49358 non-null  int64  \n",
            " 44  int_cat21_n    49358 non-null  int64  \n",
            " 45  int_cat22_n    49358 non-null  int64  \n",
            " 46  int_cat23_n    49358 non-null  int64  \n",
            " 47  int_cat24_n    49358 non-null  int64  \n",
            " 48  target_class   49358 non-null  int64  \n",
            "dtypes: float64(24), int64(25)\n",
            "memory usage: 18.5 MB\n"
          ]
        }
      ]
    },
    {
      "cell_type": "code",
      "source": [
        "cust_data.describe()"
      ],
      "metadata": {
        "colab": {
          "base_uri": "https://localhost:8080/",
          "height": 350
        },
        "id": "rVUQHn2_FYJR",
        "outputId": "f3753993-da0c-40a3-a716-7cfc8c78c22d"
      },
      "execution_count": null,
      "outputs": [
        {
          "output_type": "execute_result",
          "data": {
            "text/plain": [
              "          visitorid       ses_rec   ses_rec_avg    ses_rec_sd    ses_rec_cv  \\\n",
              "count  4.935800e+04  49358.000000  49358.000000  49358.000000  49358.000000   \n",
              "mean   7.072986e+05     15.454840     11.231611      2.711961     -0.020100   \n",
              "std    4.072098e+05      9.184645     18.162743      6.583917      0.917701   \n",
              "min    3.700000e+01      0.000000      0.000000      0.000000     -1.000000   \n",
              "25%    3.532920e+05      7.000000      0.000000      0.000000     -1.000000   \n",
              "50%    7.100910e+05     16.000000      2.250000      0.000000      0.000000   \n",
              "75%    1.060355e+06     23.000000     14.250000      1.000000      0.638646   \n",
              "max    1.407573e+06     31.000000     99.000000     47.500000     11.525121   \n",
              "\n",
              "           user_rec         ses_n       ses_n_r         int_n       int_n_r  \\\n",
              "count  49358.000000  49358.000000  49358.000000  49358.000000  49358.000000   \n",
              "mean      33.822947      3.366445      0.172372      6.716277      1.720975   \n",
              "std       25.237703      7.380573      0.372614     38.528882      1.455885   \n",
              "min        0.000000      2.000000     -1.000000      2.000000      1.000000   \n",
              "25%       16.000000      2.000000      0.060606      2.000000      1.000000   \n",
              "50%       26.000000      2.000000      0.090909      3.000000      1.250000   \n",
              "75%       46.000000      3.000000      0.166667      6.000000      2.000000   \n",
              "max       99.000000    475.000000     18.000000   5549.000000     59.000000   \n",
              "\n",
              "       ...   int_cat16_n   int_cat17_n   int_cat18_n   int_cat19_n  \\\n",
              "count  ...  49358.000000  49358.000000  49358.000000  49358.000000   \n",
              "mean   ...      0.955792      0.773714      0.382977      0.732424   \n",
              "std    ...      6.086722      5.003517      4.569604      4.977989   \n",
              "min    ...      0.000000      0.000000      0.000000      0.000000   \n",
              "25%    ...      0.000000      0.000000      0.000000      0.000000   \n",
              "50%    ...      0.000000      0.000000      0.000000      0.000000   \n",
              "75%    ...      0.000000      0.000000      0.000000      0.000000   \n",
              "max    ...    576.000000    445.000000    481.000000    564.000000   \n",
              "\n",
              "        int_cat20_n   int_cat21_n   int_cat22_n   int_cat23_n   int_cat24_n  \\\n",
              "count  49358.000000  49358.000000  49358.000000  49358.000000  49358.000000   \n",
              "mean       0.503343      0.447020      2.102577      0.038130      0.099579   \n",
              "std        3.259194      3.873684     16.273213      0.593681      1.135149   \n",
              "min        0.000000      0.000000      0.000000      0.000000      0.000000   \n",
              "25%        0.000000      0.000000      0.000000      0.000000      0.000000   \n",
              "50%        0.000000      0.000000      0.000000      0.000000      0.000000   \n",
              "75%        0.000000      0.000000      2.000000      0.000000      0.000000   \n",
              "max      317.000000    420.000000   2282.000000     54.000000    105.000000   \n",
              "\n",
              "       target_class  \n",
              "count  49358.000000  \n",
              "mean       0.885591  \n",
              "std        0.318311  \n",
              "min        0.000000  \n",
              "25%        1.000000  \n",
              "50%        1.000000  \n",
              "75%        1.000000  \n",
              "max        1.000000  \n",
              "\n",
              "[8 rows x 49 columns]"
            ],
            "text/html": [
              "\n",
              "  <div id=\"df-091df881-0646-4b82-8b5e-6b595af4677b\" class=\"colab-df-container\">\n",
              "    <div>\n",
              "<style scoped>\n",
              "    .dataframe tbody tr th:only-of-type {\n",
              "        vertical-align: middle;\n",
              "    }\n",
              "\n",
              "    .dataframe tbody tr th {\n",
              "        vertical-align: top;\n",
              "    }\n",
              "\n",
              "    .dataframe thead th {\n",
              "        text-align: right;\n",
              "    }\n",
              "</style>\n",
              "<table border=\"1\" class=\"dataframe\">\n",
              "  <thead>\n",
              "    <tr style=\"text-align: right;\">\n",
              "      <th></th>\n",
              "      <th>visitorid</th>\n",
              "      <th>ses_rec</th>\n",
              "      <th>ses_rec_avg</th>\n",
              "      <th>ses_rec_sd</th>\n",
              "      <th>ses_rec_cv</th>\n",
              "      <th>user_rec</th>\n",
              "      <th>ses_n</th>\n",
              "      <th>ses_n_r</th>\n",
              "      <th>int_n</th>\n",
              "      <th>int_n_r</th>\n",
              "      <th>...</th>\n",
              "      <th>int_cat16_n</th>\n",
              "      <th>int_cat17_n</th>\n",
              "      <th>int_cat18_n</th>\n",
              "      <th>int_cat19_n</th>\n",
              "      <th>int_cat20_n</th>\n",
              "      <th>int_cat21_n</th>\n",
              "      <th>int_cat22_n</th>\n",
              "      <th>int_cat23_n</th>\n",
              "      <th>int_cat24_n</th>\n",
              "      <th>target_class</th>\n",
              "    </tr>\n",
              "  </thead>\n",
              "  <tbody>\n",
              "    <tr>\n",
              "      <th>count</th>\n",
              "      <td>4.935800e+04</td>\n",
              "      <td>49358.000000</td>\n",
              "      <td>49358.000000</td>\n",
              "      <td>49358.000000</td>\n",
              "      <td>49358.000000</td>\n",
              "      <td>49358.000000</td>\n",
              "      <td>49358.000000</td>\n",
              "      <td>49358.000000</td>\n",
              "      <td>49358.000000</td>\n",
              "      <td>49358.000000</td>\n",
              "      <td>...</td>\n",
              "      <td>49358.000000</td>\n",
              "      <td>49358.000000</td>\n",
              "      <td>49358.000000</td>\n",
              "      <td>49358.000000</td>\n",
              "      <td>49358.000000</td>\n",
              "      <td>49358.000000</td>\n",
              "      <td>49358.000000</td>\n",
              "      <td>49358.000000</td>\n",
              "      <td>49358.000000</td>\n",
              "      <td>49358.000000</td>\n",
              "    </tr>\n",
              "    <tr>\n",
              "      <th>mean</th>\n",
              "      <td>7.072986e+05</td>\n",
              "      <td>15.454840</td>\n",
              "      <td>11.231611</td>\n",
              "      <td>2.711961</td>\n",
              "      <td>-0.020100</td>\n",
              "      <td>33.822947</td>\n",
              "      <td>3.366445</td>\n",
              "      <td>0.172372</td>\n",
              "      <td>6.716277</td>\n",
              "      <td>1.720975</td>\n",
              "      <td>...</td>\n",
              "      <td>0.955792</td>\n",
              "      <td>0.773714</td>\n",
              "      <td>0.382977</td>\n",
              "      <td>0.732424</td>\n",
              "      <td>0.503343</td>\n",
              "      <td>0.447020</td>\n",
              "      <td>2.102577</td>\n",
              "      <td>0.038130</td>\n",
              "      <td>0.099579</td>\n",
              "      <td>0.885591</td>\n",
              "    </tr>\n",
              "    <tr>\n",
              "      <th>std</th>\n",
              "      <td>4.072098e+05</td>\n",
              "      <td>9.184645</td>\n",
              "      <td>18.162743</td>\n",
              "      <td>6.583917</td>\n",
              "      <td>0.917701</td>\n",
              "      <td>25.237703</td>\n",
              "      <td>7.380573</td>\n",
              "      <td>0.372614</td>\n",
              "      <td>38.528882</td>\n",
              "      <td>1.455885</td>\n",
              "      <td>...</td>\n",
              "      <td>6.086722</td>\n",
              "      <td>5.003517</td>\n",
              "      <td>4.569604</td>\n",
              "      <td>4.977989</td>\n",
              "      <td>3.259194</td>\n",
              "      <td>3.873684</td>\n",
              "      <td>16.273213</td>\n",
              "      <td>0.593681</td>\n",
              "      <td>1.135149</td>\n",
              "      <td>0.318311</td>\n",
              "    </tr>\n",
              "    <tr>\n",
              "      <th>min</th>\n",
              "      <td>3.700000e+01</td>\n",
              "      <td>0.000000</td>\n",
              "      <td>0.000000</td>\n",
              "      <td>0.000000</td>\n",
              "      <td>-1.000000</td>\n",
              "      <td>0.000000</td>\n",
              "      <td>2.000000</td>\n",
              "      <td>-1.000000</td>\n",
              "      <td>2.000000</td>\n",
              "      <td>1.000000</td>\n",
              "      <td>...</td>\n",
              "      <td>0.000000</td>\n",
              "      <td>0.000000</td>\n",
              "      <td>0.000000</td>\n",
              "      <td>0.000000</td>\n",
              "      <td>0.000000</td>\n",
              "      <td>0.000000</td>\n",
              "      <td>0.000000</td>\n",
              "      <td>0.000000</td>\n",
              "      <td>0.000000</td>\n",
              "      <td>0.000000</td>\n",
              "    </tr>\n",
              "    <tr>\n",
              "      <th>25%</th>\n",
              "      <td>3.532920e+05</td>\n",
              "      <td>7.000000</td>\n",
              "      <td>0.000000</td>\n",
              "      <td>0.000000</td>\n",
              "      <td>-1.000000</td>\n",
              "      <td>16.000000</td>\n",
              "      <td>2.000000</td>\n",
              "      <td>0.060606</td>\n",
              "      <td>2.000000</td>\n",
              "      <td>1.000000</td>\n",
              "      <td>...</td>\n",
              "      <td>0.000000</td>\n",
              "      <td>0.000000</td>\n",
              "      <td>0.000000</td>\n",
              "      <td>0.000000</td>\n",
              "      <td>0.000000</td>\n",
              "      <td>0.000000</td>\n",
              "      <td>0.000000</td>\n",
              "      <td>0.000000</td>\n",
              "      <td>0.000000</td>\n",
              "      <td>1.000000</td>\n",
              "    </tr>\n",
              "    <tr>\n",
              "      <th>50%</th>\n",
              "      <td>7.100910e+05</td>\n",
              "      <td>16.000000</td>\n",
              "      <td>2.250000</td>\n",
              "      <td>0.000000</td>\n",
              "      <td>0.000000</td>\n",
              "      <td>26.000000</td>\n",
              "      <td>2.000000</td>\n",
              "      <td>0.090909</td>\n",
              "      <td>3.000000</td>\n",
              "      <td>1.250000</td>\n",
              "      <td>...</td>\n",
              "      <td>0.000000</td>\n",
              "      <td>0.000000</td>\n",
              "      <td>0.000000</td>\n",
              "      <td>0.000000</td>\n",
              "      <td>0.000000</td>\n",
              "      <td>0.000000</td>\n",
              "      <td>0.000000</td>\n",
              "      <td>0.000000</td>\n",
              "      <td>0.000000</td>\n",
              "      <td>1.000000</td>\n",
              "    </tr>\n",
              "    <tr>\n",
              "      <th>75%</th>\n",
              "      <td>1.060355e+06</td>\n",
              "      <td>23.000000</td>\n",
              "      <td>14.250000</td>\n",
              "      <td>1.000000</td>\n",
              "      <td>0.638646</td>\n",
              "      <td>46.000000</td>\n",
              "      <td>3.000000</td>\n",
              "      <td>0.166667</td>\n",
              "      <td>6.000000</td>\n",
              "      <td>2.000000</td>\n",
              "      <td>...</td>\n",
              "      <td>0.000000</td>\n",
              "      <td>0.000000</td>\n",
              "      <td>0.000000</td>\n",
              "      <td>0.000000</td>\n",
              "      <td>0.000000</td>\n",
              "      <td>0.000000</td>\n",
              "      <td>2.000000</td>\n",
              "      <td>0.000000</td>\n",
              "      <td>0.000000</td>\n",
              "      <td>1.000000</td>\n",
              "    </tr>\n",
              "    <tr>\n",
              "      <th>max</th>\n",
              "      <td>1.407573e+06</td>\n",
              "      <td>31.000000</td>\n",
              "      <td>99.000000</td>\n",
              "      <td>47.500000</td>\n",
              "      <td>11.525121</td>\n",
              "      <td>99.000000</td>\n",
              "      <td>475.000000</td>\n",
              "      <td>18.000000</td>\n",
              "      <td>5549.000000</td>\n",
              "      <td>59.000000</td>\n",
              "      <td>...</td>\n",
              "      <td>576.000000</td>\n",
              "      <td>445.000000</td>\n",
              "      <td>481.000000</td>\n",
              "      <td>564.000000</td>\n",
              "      <td>317.000000</td>\n",
              "      <td>420.000000</td>\n",
              "      <td>2282.000000</td>\n",
              "      <td>54.000000</td>\n",
              "      <td>105.000000</td>\n",
              "      <td>1.000000</td>\n",
              "    </tr>\n",
              "  </tbody>\n",
              "</table>\n",
              "<p>8 rows × 49 columns</p>\n",
              "</div>\n",
              "    <div class=\"colab-df-buttons\">\n",
              "\n",
              "  <div class=\"colab-df-container\">\n",
              "    <button class=\"colab-df-convert\" onclick=\"convertToInteractive('df-091df881-0646-4b82-8b5e-6b595af4677b')\"\n",
              "            title=\"Convert this dataframe to an interactive table.\"\n",
              "            style=\"display:none;\">\n",
              "\n",
              "  <svg xmlns=\"http://www.w3.org/2000/svg\" height=\"24px\" viewBox=\"0 -960 960 960\">\n",
              "    <path d=\"M120-120v-720h720v720H120Zm60-500h600v-160H180v160Zm220 220h160v-160H400v160Zm0 220h160v-160H400v160ZM180-400h160v-160H180v160Zm440 0h160v-160H620v160ZM180-180h160v-160H180v160Zm440 0h160v-160H620v160Z\"/>\n",
              "  </svg>\n",
              "    </button>\n",
              "\n",
              "  <style>\n",
              "    .colab-df-container {\n",
              "      display:flex;\n",
              "      gap: 12px;\n",
              "    }\n",
              "\n",
              "    .colab-df-convert {\n",
              "      background-color: #E8F0FE;\n",
              "      border: none;\n",
              "      border-radius: 50%;\n",
              "      cursor: pointer;\n",
              "      display: none;\n",
              "      fill: #1967D2;\n",
              "      height: 32px;\n",
              "      padding: 0 0 0 0;\n",
              "      width: 32px;\n",
              "    }\n",
              "\n",
              "    .colab-df-convert:hover {\n",
              "      background-color: #E2EBFA;\n",
              "      box-shadow: 0px 1px 2px rgba(60, 64, 67, 0.3), 0px 1px 3px 1px rgba(60, 64, 67, 0.15);\n",
              "      fill: #174EA6;\n",
              "    }\n",
              "\n",
              "    .colab-df-buttons div {\n",
              "      margin-bottom: 4px;\n",
              "    }\n",
              "\n",
              "    [theme=dark] .colab-df-convert {\n",
              "      background-color: #3B4455;\n",
              "      fill: #D2E3FC;\n",
              "    }\n",
              "\n",
              "    [theme=dark] .colab-df-convert:hover {\n",
              "      background-color: #434B5C;\n",
              "      box-shadow: 0px 1px 3px 1px rgba(0, 0, 0, 0.15);\n",
              "      filter: drop-shadow(0px 1px 2px rgba(0, 0, 0, 0.3));\n",
              "      fill: #FFFFFF;\n",
              "    }\n",
              "  </style>\n",
              "\n",
              "    <script>\n",
              "      const buttonEl =\n",
              "        document.querySelector('#df-091df881-0646-4b82-8b5e-6b595af4677b button.colab-df-convert');\n",
              "      buttonEl.style.display =\n",
              "        google.colab.kernel.accessAllowed ? 'block' : 'none';\n",
              "\n",
              "      async function convertToInteractive(key) {\n",
              "        const element = document.querySelector('#df-091df881-0646-4b82-8b5e-6b595af4677b');\n",
              "        const dataTable =\n",
              "          await google.colab.kernel.invokeFunction('convertToInteractive',\n",
              "                                                    [key], {});\n",
              "        if (!dataTable) return;\n",
              "\n",
              "        const docLinkHtml = 'Like what you see? Visit the ' +\n",
              "          '<a target=\"_blank\" href=https://colab.research.google.com/notebooks/data_table.ipynb>data table notebook</a>'\n",
              "          + ' to learn more about interactive tables.';\n",
              "        element.innerHTML = '';\n",
              "        dataTable['output_type'] = 'display_data';\n",
              "        await google.colab.output.renderOutput(dataTable, element);\n",
              "        const docLink = document.createElement('div');\n",
              "        docLink.innerHTML = docLinkHtml;\n",
              "        element.appendChild(docLink);\n",
              "      }\n",
              "    </script>\n",
              "  </div>\n",
              "\n",
              "\n",
              "<div id=\"df-89f68f33-b373-4952-8d94-68fac2b07af3\">\n",
              "  <button class=\"colab-df-quickchart\" onclick=\"quickchart('df-89f68f33-b373-4952-8d94-68fac2b07af3')\"\n",
              "            title=\"Suggest charts\"\n",
              "            style=\"display:none;\">\n",
              "\n",
              "<svg xmlns=\"http://www.w3.org/2000/svg\" height=\"24px\"viewBox=\"0 0 24 24\"\n",
              "     width=\"24px\">\n",
              "    <g>\n",
              "        <path d=\"M19 3H5c-1.1 0-2 .9-2 2v14c0 1.1.9 2 2 2h14c1.1 0 2-.9 2-2V5c0-1.1-.9-2-2-2zM9 17H7v-7h2v7zm4 0h-2V7h2v10zm4 0h-2v-4h2v4z\"/>\n",
              "    </g>\n",
              "</svg>\n",
              "  </button>\n",
              "\n",
              "<style>\n",
              "  .colab-df-quickchart {\n",
              "      --bg-color: #E8F0FE;\n",
              "      --fill-color: #1967D2;\n",
              "      --hover-bg-color: #E2EBFA;\n",
              "      --hover-fill-color: #174EA6;\n",
              "      --disabled-fill-color: #AAA;\n",
              "      --disabled-bg-color: #DDD;\n",
              "  }\n",
              "\n",
              "  [theme=dark] .colab-df-quickchart {\n",
              "      --bg-color: #3B4455;\n",
              "      --fill-color: #D2E3FC;\n",
              "      --hover-bg-color: #434B5C;\n",
              "      --hover-fill-color: #FFFFFF;\n",
              "      --disabled-bg-color: #3B4455;\n",
              "      --disabled-fill-color: #666;\n",
              "  }\n",
              "\n",
              "  .colab-df-quickchart {\n",
              "    background-color: var(--bg-color);\n",
              "    border: none;\n",
              "    border-radius: 50%;\n",
              "    cursor: pointer;\n",
              "    display: none;\n",
              "    fill: var(--fill-color);\n",
              "    height: 32px;\n",
              "    padding: 0;\n",
              "    width: 32px;\n",
              "  }\n",
              "\n",
              "  .colab-df-quickchart:hover {\n",
              "    background-color: var(--hover-bg-color);\n",
              "    box-shadow: 0 1px 2px rgba(60, 64, 67, 0.3), 0 1px 3px 1px rgba(60, 64, 67, 0.15);\n",
              "    fill: var(--button-hover-fill-color);\n",
              "  }\n",
              "\n",
              "  .colab-df-quickchart-complete:disabled,\n",
              "  .colab-df-quickchart-complete:disabled:hover {\n",
              "    background-color: var(--disabled-bg-color);\n",
              "    fill: var(--disabled-fill-color);\n",
              "    box-shadow: none;\n",
              "  }\n",
              "\n",
              "  .colab-df-spinner {\n",
              "    border: 2px solid var(--fill-color);\n",
              "    border-color: transparent;\n",
              "    border-bottom-color: var(--fill-color);\n",
              "    animation:\n",
              "      spin 1s steps(1) infinite;\n",
              "  }\n",
              "\n",
              "  @keyframes spin {\n",
              "    0% {\n",
              "      border-color: transparent;\n",
              "      border-bottom-color: var(--fill-color);\n",
              "      border-left-color: var(--fill-color);\n",
              "    }\n",
              "    20% {\n",
              "      border-color: transparent;\n",
              "      border-left-color: var(--fill-color);\n",
              "      border-top-color: var(--fill-color);\n",
              "    }\n",
              "    30% {\n",
              "      border-color: transparent;\n",
              "      border-left-color: var(--fill-color);\n",
              "      border-top-color: var(--fill-color);\n",
              "      border-right-color: var(--fill-color);\n",
              "    }\n",
              "    40% {\n",
              "      border-color: transparent;\n",
              "      border-right-color: var(--fill-color);\n",
              "      border-top-color: var(--fill-color);\n",
              "    }\n",
              "    60% {\n",
              "      border-color: transparent;\n",
              "      border-right-color: var(--fill-color);\n",
              "    }\n",
              "    80% {\n",
              "      border-color: transparent;\n",
              "      border-right-color: var(--fill-color);\n",
              "      border-bottom-color: var(--fill-color);\n",
              "    }\n",
              "    90% {\n",
              "      border-color: transparent;\n",
              "      border-bottom-color: var(--fill-color);\n",
              "    }\n",
              "  }\n",
              "</style>\n",
              "\n",
              "  <script>\n",
              "    async function quickchart(key) {\n",
              "      const quickchartButtonEl =\n",
              "        document.querySelector('#' + key + ' button');\n",
              "      quickchartButtonEl.disabled = true;  // To prevent multiple clicks.\n",
              "      quickchartButtonEl.classList.add('colab-df-spinner');\n",
              "      try {\n",
              "        const charts = await google.colab.kernel.invokeFunction(\n",
              "            'suggestCharts', [key], {});\n",
              "      } catch (error) {\n",
              "        console.error('Error during call to suggestCharts:', error);\n",
              "      }\n",
              "      quickchartButtonEl.classList.remove('colab-df-spinner');\n",
              "      quickchartButtonEl.classList.add('colab-df-quickchart-complete');\n",
              "    }\n",
              "    (() => {\n",
              "      let quickchartButtonEl =\n",
              "        document.querySelector('#df-89f68f33-b373-4952-8d94-68fac2b07af3 button');\n",
              "      quickchartButtonEl.style.display =\n",
              "        google.colab.kernel.accessAllowed ? 'block' : 'none';\n",
              "    })();\n",
              "  </script>\n",
              "</div>\n",
              "\n",
              "    </div>\n",
              "  </div>\n"
            ],
            "application/vnd.google.colaboratory.intrinsic+json": {
              "type": "dataframe"
            }
          },
          "metadata": {},
          "execution_count": 8
        }
      ]
    },
    {
      "cell_type": "markdown",
      "source": [
        "target 확인"
      ],
      "metadata": {
        "id": "fxu0o4G1FaHh"
      }
    },
    {
      "cell_type": "code",
      "source": [
        "cust_data['target_class'].unique() # 1 : churn"
      ],
      "metadata": {
        "colab": {
          "base_uri": "https://localhost:8080/"
        },
        "id": "NtDJmMCwFagk",
        "outputId": "25e23c5c-b7f5-403d-c954-fbecc82d78ee"
      },
      "execution_count": null,
      "outputs": [
        {
          "output_type": "execute_result",
          "data": {
            "text/plain": [
              "array([1, 0])"
            ]
          },
          "metadata": {},
          "execution_count": 9
        }
      ]
    },
    {
      "cell_type": "code",
      "source": [
        "corr = cust_data.corr()\n",
        "plt.figure(figsize=(4,4))\n",
        "sns.heatmap(corr,  cmap='coolwarm', linewidths=0.5)\n",
        "plt.title('Correlation Heatmap')\n",
        "plt.show()"
      ],
      "metadata": {
        "colab": {
          "base_uri": "https://localhost:8080/",
          "height": 472
        },
        "id": "QM_uorwCGRe2",
        "outputId": "5215f346-83ed-469d-c451-c149feda363c"
      },
      "execution_count": null,
      "outputs": [
        {
          "output_type": "display_data",
          "data": {
            "text/plain": [
              "<Figure size 400x400 with 2 Axes>"
            ],
            "image/png": "[encoded data removed]"
          },
          "metadata": {}
        }
      ]
    },
    {
      "cell_type": "code",
      "source": [
        "corr = cust_data[cust_data['target_class']==1].corr()\n",
        "plt.figure(figsize=(4,4))\n",
        "sns.heatmap(corr,  cmap='coolwarm', linewidths=0.5)\n",
        "plt.title('Correlation Heatmap')\n",
        "plt.show()"
      ],
      "metadata": {
        "colab": {
          "base_uri": "https://localhost:8080/",
          "height": 472
        },
        "id": "yOMfiQ5QG38X",
        "outputId": "38bc4def-bdd3-404b-d4be-342dc82bb0bb"
      },
      "execution_count": null,
      "outputs": [
        {
          "output_type": "display_data",
          "data": {
            "text/plain": [
              "<Figure size 400x400 with 2 Axes>"
            ],
            "image/png": "[encoded data removed]"
          },
          "metadata": {}
        }
      ]
    },
    {
      "cell_type": "code",
      "source": [
        "corr = cust_data[cust_data['target_class']==0].corr()\n",
        "plt.figure(figsize=(4,4))\n",
        "sns.heatmap(corr,  cmap='coolwarm', linewidths=0.5)\n",
        "plt.title('Correlation Heatmap')\n",
        "plt.show()"
      ],
      "metadata": {
        "colab": {
          "base_uri": "https://localhost:8080/",
          "height": 472
        },
        "id": "8R2ki83PHK2m",
        "outputId": "fc3038f3-1954-4369-9aeb-478a8cfaf9c7"
      },
      "execution_count": null,
      "outputs": [
        {
          "output_type": "display_data",
          "data": {
            "text/plain": [
              "<Figure size 400x400 with 2 Axes>"
            ],
            "image/png": "[encoded data removed]"
          },
          "metadata": {}
        }
      ]
    },
    {
      "cell_type": "code",
      "source": [
        "cust_data['visitorid'].nunique()"
      ],
      "metadata": {
        "colab": {
          "base_uri": "https://localhost:8080/"
        },
        "id": "9wz9XhzFHWmM",
        "outputId": "30e9cfea-6c94-4f8d-a7ec-b65b0d3c6337"
      },
      "execution_count": null,
      "outputs": [
        {
          "output_type": "execute_result",
          "data": {
            "text/plain": [
              "49358"
            ]
          },
          "metadata": {},
          "execution_count": 13
        }
      ]
    },
    {
      "cell_type": "code",
      "source": [
        "cust_data.groupby('target_class')['target_class'].count()"
      ],
      "metadata": {
        "colab": {
          "base_uri": "https://localhost:8080/"
        },
        "id": "dphr7wqmHeQG",
        "outputId": "fe74cbd3-e19c-4454-fade-e64d3c3bcc92"
      },
      "execution_count": null,
      "outputs": [
        {
          "output_type": "execute_result",
          "data": {
            "text/plain": [
              "target_class\n",
              "0     5647\n",
              "1    43711\n",
              "Name: target_class, dtype: int64"
            ]
          },
          "metadata": {},
          "execution_count": 14
        }
      ]
    },
    {
      "cell_type": "code",
      "source": [
        "5647/(5647+43711)"
      ],
      "metadata": {
        "colab": {
          "base_uri": "https://localhost:8080/"
        },
        "id": "5D6_lWh_Hso2",
        "outputId": "ae2dd141-3bf6-41ee-e7ae-8ff1eb6a82cf"
      },
      "execution_count": null,
      "outputs": [
        {
          "output_type": "execute_result",
          "data": {
            "text/plain": [
              "0.11440901171036104"
            ]
          },
          "metadata": {},
          "execution_count": 15
        }
      ]
    },
    {
      "cell_type": "markdown",
      "source": [
        "구매 : 0->1\n",
        "이탈 : 1->0"
      ],
      "metadata": {
        "id": "985RxXHrIQS5"
      }
    },
    {
      "cell_type": "code",
      "source": [
        "cust_data['target_class'] = cust_data['target_class']*-1+1"
      ],
      "metadata": {
        "id": "B2NxafD7Hy50"
      },
      "execution_count": null,
      "outputs": []
    },
    {
      "cell_type": "code",
      "source": [
        "cust_data.groupby('target_class')['target_class'].count()"
      ],
      "metadata": {
        "colab": {
          "base_uri": "https://localhost:8080/"
        },
        "id": "zjhFh2JPIaZY",
        "outputId": "8d66bf34-ce5b-493e-d7c9-ae028a2fb5f0"
      },
      "execution_count": null,
      "outputs": [
        {
          "output_type": "execute_result",
          "data": {
            "text/plain": [
              "target_class\n",
              "0    43711\n",
              "1     5647\n",
              "Name: target_class, dtype: int64"
            ]
          },
          "metadata": {},
          "execution_count": 17
        }
      ]
    },
    {
      "cell_type": "markdown",
      "source": [
        "Train_Test_Valid_Split"
      ],
      "metadata": {
        "id": "Ezd3EskoIpD3"
      }
    },
    {
      "cell_type": "code",
      "source": [
        "def split_data(data, frac):\n",
        "  train_df = data.sample(axis=0, frac=frac)\n",
        "  test_df = data[data.index.isin(train_df.index)==False]\n",
        "  return train_df, test_df"
      ],
      "metadata": {
        "id": "AqUAENzEIkgD"
      },
      "execution_count": null,
      "outputs": []
    },
    {
      "cell_type": "code",
      "source": [
        "pos_df = cust_data[cust_data['target_class']==1]\n",
        "neg_df = cust_data[cust_data['target_class']==0]"
      ],
      "metadata": {
        "id": "zlSLKIC0JNDP"
      },
      "execution_count": null,
      "outputs": []
    },
    {
      "cell_type": "code",
      "source": [
        "neg_df.shape, pos_df.shape"
      ],
      "metadata": {
        "colab": {
          "base_uri": "https://localhost:8080/"
        },
        "id": "tIduS699Jg2E",
        "outputId": "5da36548-81b8-4f7d-e60c-020265e9da36"
      },
      "execution_count": null,
      "outputs": [
        {
          "output_type": "execute_result",
          "data": {
            "text/plain": [
              "((43711, 49), (5647, 49))"
            ]
          },
          "metadata": {},
          "execution_count": 21
        }
      ]
    },
    {
      "cell_type": "code",
      "source": [
        "train_df1, test_df1 = split_data(pos_df, 0.7)\n",
        "test_df1, valid_df1 = split_data(test_df1, 0.7)\n",
        "train_df0, test_df0 = split_data(neg_df, 0.7)\n",
        "test_df0, valid_df0 = split_data(test_df0, 0.7)"
      ],
      "metadata": {
        "id": "nvYC-FW2Jw0E"
      },
      "execution_count": null,
      "outputs": []
    },
    {
      "cell_type": "code",
      "source": [
        "train_df = pd.concat([train_df1, train_df0])\n",
        "valid_df = pd.concat([valid_df1, valid_df0])\n",
        "test_df = pd.concat([test_df1, test_df0])\n",
        "\n",
        "train_df.shape, valid_df.shape, test_df.shape"
      ],
      "metadata": {
        "colab": {
          "base_uri": "https://localhost:8080/"
        },
        "id": "HTsyP3KmKLzw",
        "outputId": "f991e44b-52eb-4c37-fd44-d5a805a57181"
      },
      "execution_count": null,
      "outputs": [
        {
          "output_type": "execute_result",
          "data": {
            "text/plain": [
              "((34551, 49), (4442, 49), (10365, 49))"
            ]
          },
          "metadata": {},
          "execution_count": 24
        }
      ]
    },
    {
      "cell_type": "code",
      "source": [
        "print(train_df.groupby('target_class')['target_class'].count())\n",
        "print(test_df.groupby('target_class')['target_class'].count())\n",
        "print(valid_df.groupby('target_class')['target_class'].count())"
      ],
      "metadata": {
        "colab": {
          "base_uri": "https://localhost:8080/"
        },
        "id": "R6G9Z_UfKMhW",
        "outputId": "928d8a1d-efa4-4e70-beae-2bf5d054ddbe"
      },
      "execution_count": null,
      "outputs": [
        {
          "output_type": "stream",
          "name": "stdout",
          "text": [
            "target_class\n",
            "0    30598\n",
            "1     3953\n",
            "Name: target_class, dtype: int64\n",
            "target_class\n",
            "0    9179\n",
            "1    1186\n",
            "Name: target_class, dtype: int64\n",
            "target_class\n",
            "0    3934\n",
            "1     508\n",
            "Name: target_class, dtype: int64\n"
          ]
        }
      ]
    },
    {
      "cell_type": "code",
      "source": [
        "import torch\n",
        "import torch.nn as nn\n",
        "from torch.utils.data import DataLoader, Dataset\n",
        "import torch.optim as optim"
      ],
      "metadata": {
        "id": "1C3Db41UM_P7"
      },
      "execution_count": null,
      "outputs": []
    },
    {
      "cell_type": "code",
      "source": [
        "class cust_dataset(Dataset):\n",
        "  def __init__(self, data):\n",
        "    self.data = data.drop('visitorid', axis = 1)\n",
        "    self.X = torch.tensor(self.data.drop('target_class', axis=1).to_numpy(), dtype=torch.float)\n",
        "    self.y = torch.tensor(self.data['target_class'].to_numpy(), dtype=torch.float).reshape(-1,1)\n",
        "\n",
        "  def __len__(self):\n",
        "    return self.X.shape[0]\n",
        "\n",
        "  def __getitem__(self,i):\n",
        "    return self.X[i], self.y[i]\n",
        "\n"
      ],
      "metadata": {
        "id": "V8APUgCiND_N"
      },
      "execution_count": null,
      "outputs": []
    },
    {
      "cell_type": "code",
      "source": [
        "train_dataset = cust_dataset(train_df)\n",
        "validation_dataset = cust_dataset(valid_df)\n",
        "test_dataset = cust_dataset(test_df)"
      ],
      "metadata": {
        "id": "kxri2BWyNHaY"
      },
      "execution_count": null,
      "outputs": []
    },
    {
      "cell_type": "code",
      "source": [
        "train_dataset.__len__(), validation_dataset.__len__(), test_dataset.__len__()\n"
      ],
      "metadata": {
        "colab": {
          "base_uri": "https://localhost:8080/"
        },
        "id": "6JFovqqdNaZ5",
        "outputId": "be67167b-ae3c-4c7e-8eee-2a0a36690307"
      },
      "execution_count": null,
      "outputs": [
        {
          "output_type": "execute_result",
          "data": {
            "text/plain": [
              "(34551, 4442, 10365)"
            ]
          },
          "metadata": {},
          "execution_count": 32
        }
      ]
    },
    {
      "cell_type": "code",
      "source": [
        "train_dataset.__getitem__(0)"
      ],
      "metadata": {
        "colab": {
          "base_uri": "https://localhost:8080/"
        },
        "id": "ATua_3gHNmx8",
        "outputId": "ad84bed0-3134-4506-bb3c-943e58e5de70"
      },
      "execution_count": null,
      "outputs": [
        {
          "output_type": "execute_result",
          "data": {
            "text/plain": [
              "(tensor([ 7.0000,  1.7907,  4.4698,  2.4961, 96.0000, 44.0000,  0.4583, 52.0000,\n",
              "          1.1818,  0.0000,  0.0000,  0.0000,  0.0000,  0.0000,  1.0000,  1.1818,\n",
              "          6.2727,  0.9490, 12.2273,  2.5505,  0.0000,  2.0682,  1.7500, -1.0000,\n",
              "          0.0000,  0.0000,  0.0000,  0.0000,  0.0000,  0.0000,  0.0000,  0.0000,\n",
              "          0.0000,  0.0000,  0.0000,  0.0000,  0.0000,  0.0000,  0.0000,  0.0000,\n",
              "          0.0000,  0.0000, 24.0000,  0.0000, 28.0000,  0.0000,  0.0000]),\n",
              " tensor([1.]))"
            ]
          },
          "metadata": {},
          "execution_count": 36
        }
      ]
    },
    {
      "cell_type": "markdown",
      "source": [
        "## Sampler"
      ],
      "metadata": {
        "id": "4UJUsmYdOswX"
      }
    },
    {
      "cell_type": "code",
      "source": [
        "from torch.utils.data.sampler import WeightedRandomSampler\n",
        "\n",
        "def class_imbalance_sampler(labels):\n",
        "    class_count = torch.bincount(labels.squeeze())\n",
        "    class_weighting = 1. / class_count\n",
        "    sample_weights = class_weighting[labels]\n",
        "    sampler = WeightedRandomSampler(sample_weights, len(labels))\n",
        "    return sampler\n",
        "\n"
      ],
      "metadata": {
        "id": "-6W8DSy5OnGv"
      },
      "execution_count": null,
      "outputs": []
    },
    {
      "cell_type": "code",
      "source": [
        "labels = train_dataset.y.int().squeeze()"
      ],
      "metadata": {
        "id": "s63EvCEJQlvA"
      },
      "execution_count": null,
      "outputs": []
    },
    {
      "cell_type": "code",
      "source": [
        "class_count = torch.bincount(torch.tensor(train_df['target_class'].to_numpy()))\n",
        "class_weighting = 1. / class_count"
      ],
      "metadata": {
        "id": "NSkOrJ6CQKEW"
      },
      "execution_count": null,
      "outputs": []
    },
    {
      "cell_type": "code",
      "source": [
        "sample_weights = class_weighting[labels]\n",
        "sample_weights"
      ],
      "metadata": {
        "colab": {
          "base_uri": "https://localhost:8080/"
        },
        "id": "nLvPjcVsQtHl",
        "outputId": "3a0495cb-9d25-4b71-9a8c-3ba766058279"
      },
      "execution_count": null,
      "outputs": [
        {
          "output_type": "execute_result",
          "data": {
            "text/plain": [
              "tensor([2.5297e-04, 2.5297e-04, 2.5297e-04,  ..., 3.2682e-05, 3.2682e-05,\n",
              "        3.2682e-05])"
            ]
          },
          "metadata": {},
          "execution_count": 49
        }
      ]
    },
    {
      "cell_type": "code",
      "source": [
        "sample_weights.size()"
      ],
      "metadata": {
        "colab": {
          "base_uri": "https://localhost:8080/"
        },
        "id": "d_a5tAtsQy9q",
        "outputId": "f733d015-0f41-4311-e196-900d2fceada5"
      },
      "execution_count": null,
      "outputs": [
        {
          "output_type": "execute_result",
          "data": {
            "text/plain": [
              "torch.Size([34551])"
            ]
          },
          "metadata": {},
          "execution_count": 50
        }
      ]
    },
    {
      "cell_type": "code",
      "source": [
        "train_sampler = class_imbalance_sampler(train_dataset.y.int().squeeze())"
      ],
      "metadata": {
        "id": "_btZPk2SQkpU"
      },
      "execution_count": null,
      "outputs": []
    },
    {
      "cell_type": "code",
      "source": [
        "train_sampler.num_samples"
      ],
      "metadata": {
        "colab": {
          "base_uri": "https://localhost:8080/"
        },
        "id": "kxvAuylKRLNI",
        "outputId": "305e68f3-34c2-431b-db83-feb1f1db0898"
      },
      "execution_count": null,
      "outputs": [
        {
          "output_type": "execute_result",
          "data": {
            "text/plain": [
              "34551"
            ]
          },
          "metadata": {},
          "execution_count": 54
        }
      ]
    },
    {
      "cell_type": "code",
      "source": [
        "train_dataloader = DataLoader(train_dataset, batch_size=128, sampler=train_sampler, drop_last=True)\n",
        "validation_dataloader = DataLoader(validation_dataset, batch_size=64, drop_last=True) # 평가시에는 Sampler 사용X\n",
        "test_dataloader = DataLoader(test_dataset, batch_size=64, drop_last=True) # 평가시에는 Sampler 사용X"
      ],
      "metadata": {
        "id": "JQpUHvbZSTE3"
      },
      "execution_count": null,
      "outputs": []
    },
    {
      "cell_type": "code",
      "source": [
        "class ChurnNet(nn.Module):\n",
        "    def __init__(self):\n",
        "        super(ChurnNet, self).__init__()\n",
        "        self.layers = nn.Sequential(\n",
        "            nn.Linear(47, 128),\n",
        "            nn.ReLU(),\n",
        "            nn.Dropout(0.1),\n",
        "            nn.Linear(128, 64),\n",
        "            nn.ReLU(),\n",
        "            nn.Dropout(0.1),\n",
        "            nn.Linear(64, 1),\n",
        "            nn.Sigmoid()\n",
        "        )\n",
        "\n",
        "    def forward(self, x):\n",
        "        return self.layers(x)\n"
      ],
      "metadata": {
        "id": "3CFN-aIQSaRp"
      },
      "execution_count": null,
      "outputs": []
    },
    {
      "cell_type": "code",
      "source": [
        "model = ChurnNet()\n",
        "optimizer = optim.Adam(model.parameters(), lr=0.01, weight_decay=1e-5) # torch는 L2만 있음\n",
        "criterion = nn.BCELoss()\n"
      ],
      "metadata": {
        "id": "pVmaGi2xSggs"
      },
      "execution_count": null,
      "outputs": []
    },
    {
      "cell_type": "code",
      "source": [
        "# 학습 함수\n",
        "def train(model, criterion, optimizer, loader):\n",
        "    model.train()\n",
        "    for data, target in loader:\n",
        "        optimizer.zero_grad()\n",
        "        output = model(data)\n",
        "        loss = criterion(output, target)\n",
        "        loss.backward()\n",
        "        optimizer.step()\n",
        "\n",
        "# 평가 함수\n",
        "def evaluate(model, loader):\n",
        "    model.eval()\n",
        "    total_loss = 0\n",
        "    correct = 0\n",
        "    with torch.no_grad():\n",
        "        for data, target in loader:\n",
        "            output = model(data)\n",
        "            total_loss += criterion(output, target).item()\n",
        "            pred = torch.tensor(output>0.5)\n",
        "            correct += pred.eq(target.view_as(pred)).sum().item()\n",
        "    return total_loss / len(loader.dataset), correct / len(loader.dataset)\n",
        "\n",
        "def train_test(model, criterion, optimizer, train_loader, test_loader, epoch):\n",
        "\n",
        "  train_losses = []\n",
        "  test_losses = []\n",
        "  train_acces = []\n",
        "  test_acces = []\n",
        "  # 학습 및 평가\n",
        "  for epoch in range(epoch):\n",
        "      train(model, criterion, optimizer, train_loader)\n",
        "      train_loss, train_acc = evaluate(model, train_loader)\n",
        "      test_loss, test_acc = evaluate(model, test_loader)\n",
        "      train_losses.append(train_loss)\n",
        "      test_losses.append(test_loss)\n",
        "      train_acces.append(train_acc)\n",
        "      test_acces.append(test_acc)\n",
        "      print(f'Epoch {epoch+1}, Train Loss: {train_loss:.4f}, Train Acc: {train_acc:.4f}, Test Loss: {test_loss:.4f}, Valid Acc: {test_acc:.4f}')\n",
        "\n",
        "  return train_losses, test_losses, train_acces, test_acces\n"
      ],
      "metadata": {
        "id": "2gPNVsRsS26t"
      },
      "execution_count": null,
      "outputs": []
    },
    {
      "cell_type": "code",
      "source": [
        "def plot_acc(train_acces, test_acces):\n",
        "  plt.plot(train_acces, label='train_acc')\n",
        "  plt.plot(test_acces, label='valid_acc')\n",
        "  plt.xlabel('Epoch')\n",
        "  plt.ylabel('acc')\n",
        "  plt.title('Training and Test acc')\n",
        "  plt.legend()\n",
        "  plt.show()"
      ],
      "metadata": {
        "id": "SRwoclcOTtbg"
      },
      "execution_count": null,
      "outputs": []
    },
    {
      "cell_type": "code",
      "source": [
        "def plot_loss(train_losses, test_losses):\n",
        "  plt.plot(train_losses, label='Training Loss')\n",
        "  plt.plot(test_losses, label='Valid Loss')\n",
        "  plt.xlabel('Epoch')\n",
        "  plt.ylabel('Loss')\n",
        "  plt.title('Training and Test Loss')\n",
        "  plt.legend()\n",
        "  plt.show()"
      ],
      "metadata": {
        "id": "6SBdQyJdTsQG"
      },
      "execution_count": null,
      "outputs": []
    },
    {
      "cell_type": "code",
      "source": [
        "epoch = 20\n",
        "\n",
        "train_losses, test_losses, train_acces, test_acces = train_test(model, criterion, optimizer, train_dataloader, validation_dataloader, epoch)\n",
        "plot_acc(train_acces, test_acces)\n",
        "plot_loss(train_losses, test_losses)"
      ],
      "metadata": {
        "colab": {
          "base_uri": "https://localhost:8080/",
          "height": 1000
        },
        "id": "WEhCJyM_TvKr",
        "outputId": "8239ea63-c73d-4834-8804-7e36cb11715f"
      },
      "execution_count": null,
      "outputs": [
        {
          "output_type": "stream",
          "name": "stderr",
          "text": [
            "<ipython-input-59-f9f17d62bd95>:20: UserWarning: To copy construct from a tensor, it is recommended to use sourceTensor.clone().detach() or sourceTensor.clone().detach().requires_grad_(True), rather than torch.tensor(sourceTensor).\n",
            "  pred = torch.tensor(output>0.5)\n"
          ]
        },
        {
          "output_type": "stream",
          "name": "stdout",
          "text": [
            "Epoch 1, Train Loss: 0.0188, Train Acc: 0.6787, Test Loss: 0.0646, Valid Acc: 0.6909\n",
            "Epoch 2, Train Loss: 0.0183, Train Acc: 0.6788, Test Loss: 0.0657, Valid Acc: 0.6628\n",
            "Epoch 3, Train Loss: 0.0190, Train Acc: 0.6774, Test Loss: 0.0651, Valid Acc: 0.6869\n",
            "Epoch 4, Train Loss: 0.0199, Train Acc: 0.6796, Test Loss: 0.0660, Valid Acc: 0.6576\n",
            "Epoch 5, Train Loss: 0.0194, Train Acc: 0.6815, Test Loss: 0.0647, Valid Acc: 0.6875\n",
            "Epoch 6, Train Loss: 0.0194, Train Acc: 0.6795, Test Loss: 0.0660, Valid Acc: 0.6923\n",
            "Epoch 7, Train Loss: 0.0188, Train Acc: 0.6823, Test Loss: 0.0645, Valid Acc: 0.7006\n",
            "Epoch 8, Train Loss: 0.0195, Train Acc: 0.6772, Test Loss: 0.0651, Valid Acc: 0.7087\n",
            "Epoch 9, Train Loss: 0.0183, Train Acc: 0.6827, Test Loss: 0.0647, Valid Acc: 0.6783\n",
            "Epoch 10, Train Loss: 0.0186, Train Acc: 0.6801, Test Loss: 0.0649, Valid Acc: 0.6936\n",
            "Epoch 11, Train Loss: 0.0196, Train Acc: 0.6753, Test Loss: 0.0652, Valid Acc: 0.6621\n",
            "Epoch 12, Train Loss: 0.0186, Train Acc: 0.6845, Test Loss: 0.0648, Valid Acc: 0.6846\n",
            "Epoch 13, Train Loss: 0.0192, Train Acc: 0.6768, Test Loss: 0.0655, Valid Acc: 0.6711\n",
            "Epoch 14, Train Loss: 0.0191, Train Acc: 0.6809, Test Loss: 0.0657, Valid Acc: 0.6421\n",
            "Epoch 15, Train Loss: 0.0189, Train Acc: 0.6778, Test Loss: 0.0667, Valid Acc: 0.6556\n",
            "Epoch 16, Train Loss: 0.0205, Train Acc: 0.6802, Test Loss: 0.0657, Valid Acc: 0.6204\n",
            "Epoch 17, Train Loss: 0.0191, Train Acc: 0.6853, Test Loss: 0.0651, Valid Acc: 0.6486\n",
            "Epoch 18, Train Loss: 0.0187, Train Acc: 0.6771, Test Loss: 0.0658, Valid Acc: 0.6679\n",
            "Epoch 19, Train Loss: 0.0190, Train Acc: 0.6867, Test Loss: 0.0646, Valid Acc: 0.6920\n",
            "Epoch 20, Train Loss: 0.0195, Train Acc: 0.6846, Test Loss: 0.0649, Valid Acc: 0.6814\n"
          ]
        },
        {
          "output_type": "display_data",
          "data": {
            "text/plain": [
              "<Figure size 640x480 with 1 Axes>"
            ],
            "image/png": "[encoded data removed]"
          },
          "metadata": {}
        },
        {
          "output_type": "display_data",
          "data": {
            "text/plain": [
              "<Figure size 640x480 with 1 Axes>"
            ],
            "image/png": "[encoded data removed]"
          },
          "metadata": {}
        }
      ]
    },
    {
      "cell_type": "markdown",
      "source": [
        "TEST 데이터 성능평가"
      ],
      "metadata": {
        "id": "n8NFIXalUTFI"
      }
    },
    {
      "cell_type": "code",
      "source": [
        "!pip install torcheval"
      ],
      "metadata": {
        "colab": {
          "base_uri": "https://localhost:8080/"
        },
        "id": "M2B9lBybUQY9",
        "outputId": "a8dce24e-9c9b-406b-b2bf-e09ff0d012af"
      },
      "execution_count": null,
      "outputs": [
        {
          "output_type": "stream",
          "name": "stdout",
          "text": [
            "Collecting torcheval\n",
            "  Downloading torcheval-0.0.7-py3-none-any.whl (179 kB)\n",
            "\u001b[2K     \u001b[90m━━━━━━━━━━━━━━━━━━━━━━━━━━━━━━━━━━━━━━━━\u001b[0m \u001b[32m179.2/179.2 kB\u001b[0m \u001b[31m1.7 MB/s\u001b[0m eta \u001b[36m0:00:00\u001b[0m\n",
            "\u001b[?25hRequirement already satisfied: typing-extensions in /usr/local/lib/python3.10/dist-packages (from torcheval) (4.11.0)\n",
            "Installing collected packages: torcheval\n",
            "Successfully installed torcheval-0.0.7\n"
          ]
        }
      ]
    },
    {
      "cell_type": "code",
      "source": [
        "from torcheval.metrics.functional import binary_confusion_matrix\n",
        "from torcheval.metrics.functional import binary_f1_score"
      ],
      "metadata": {
        "id": "CQSlvbd_UVw6"
      },
      "execution_count": null,
      "outputs": []
    },
    {
      "cell_type": "code",
      "source": [
        "prediction = torch.empty((0,1))\n",
        "targets = torch.empty((0,1))\n",
        "for X, target in test_dataloader:\n",
        "    pred = model(X)\n",
        "    prediction = torch.cat((prediction, pred), dim = 0)\n",
        "    targets = torch.cat((targets, target), dim = 0)"
      ],
      "metadata": {
        "id": "RmttGvtkUaOL"
      },
      "execution_count": null,
      "outputs": []
    },
    {
      "cell_type": "code",
      "source": [
        "prediction"
      ],
      "metadata": {
        "colab": {
          "base_uri": "https://localhost:8080/"
        },
        "id": "cukRMq31Uh9k",
        "outputId": "0427cdb3-c062-4361-aad5-4aa906955fb3"
      },
      "execution_count": null,
      "outputs": [
        {
          "output_type": "execute_result",
          "data": {
            "text/plain": [
              "tensor([[0.1616],\n",
              "        [0.5946],\n",
              "        [0.1475],\n",
              "        ...,\n",
              "        [0.2821],\n",
              "        [1.0000],\n",
              "        [0.1784]], grad_fn=<CatBackward0>)"
            ]
          },
          "metadata": {},
          "execution_count": 68
        }
      ]
    },
    {
      "cell_type": "code",
      "source": [
        "binary_pred = (prediction>0.5).int().squeeze()\n",
        "targets = targets.squeeze()"
      ],
      "metadata": {
        "id": "0u8DDiaRUp8U"
      },
      "execution_count": null,
      "outputs": []
    },
    {
      "cell_type": "code",
      "source": [
        "binary_pred"
      ],
      "metadata": {
        "colab": {
          "base_uri": "https://localhost:8080/"
        },
        "id": "nLShumoxUuSv",
        "outputId": "cc4cec8f-91d6-4bd1-d12e-2f9c503188c0"
      },
      "execution_count": null,
      "outputs": [
        {
          "output_type": "execute_result",
          "data": {
            "text/plain": [
              "tensor([0, 1, 0,  ..., 0, 1, 0], dtype=torch.int32)"
            ]
          },
          "metadata": {},
          "execution_count": 72
        }
      ]
    },
    {
      "cell_type": "code",
      "source": [
        "targets"
      ],
      "metadata": {
        "colab": {
          "base_uri": "https://localhost:8080/"
        },
        "id": "Cy1DUmeVU5yJ",
        "outputId": "f432cab5-595b-4f8c-d6f4-222dd91642f1"
      },
      "execution_count": null,
      "outputs": [
        {
          "output_type": "execute_result",
          "data": {
            "text/plain": [
              "tensor([1., 1., 1.,  ..., 0., 0., 0.])"
            ]
          },
          "metadata": {},
          "execution_count": 73
        }
      ]
    },
    {
      "cell_type": "code",
      "source": [
        "binary_confusion_matrix(input=binary_pred.int(), target=targets.int())"
      ],
      "metadata": {
        "colab": {
          "base_uri": "https://localhost:8080/"
        },
        "id": "o-KyYBZnUyTD",
        "outputId": "18ecf011-94e2-477c-a23e-29ff2c32b515"
      },
      "execution_count": null,
      "outputs": [
        {
          "output_type": "execute_result",
          "data": {
            "text/plain": [
              "tensor([[6365, 2753],\n",
              "        [ 415,  771]], dtype=torch.int32)"
            ]
          },
          "metadata": {},
          "execution_count": 71
        }
      ]
    },
    {
      "cell_type": "code",
      "source": [
        "recall = 771/(415+771)"
      ],
      "metadata": {
        "id": "IPOO7hoNVX-o"
      },
      "execution_count": null,
      "outputs": []
    },
    {
      "cell_type": "code",
      "source": [
        "precision = 771/(2753+771)"
      ],
      "metadata": {
        "id": "thcl1ir1VZfo"
      },
      "execution_count": null,
      "outputs": []
    },
    {
      "cell_type": "markdown",
      "source": [
        "f1스코어"
      ],
      "metadata": {
        "id": "pw9edrP6WLqA"
      }
    },
    {
      "cell_type": "code",
      "source": [
        "f1_score = (2*recall*precision)/(recall+precision) # 조화평균\n",
        "print(f1_score)"
      ],
      "metadata": {
        "colab": {
          "base_uri": "https://localhost:8080/"
        },
        "id": "qID2dlb6WAeV",
        "outputId": "c72f9d70-2ec5-4788-fcaf-035d5bcd2c15"
      },
      "execution_count": null,
      "outputs": [
        {
          "output_type": "stream",
          "name": "stdout",
          "text": [
            "0.3273885350318471\n"
          ]
        }
      ]
    },
    {
      "cell_type": "markdown",
      "source": [
        "#마케팅 캠페인 전략\n",
        "마케팅 수행 적중률 계산\n",
        "\n",
        "구매가망모형"
      ],
      "metadata": {
        "id": "LIVa5a0-WamM"
      }
    },
    {
      "cell_type": "code",
      "source": [
        "prediction.shape"
      ],
      "metadata": {
        "colab": {
          "base_uri": "https://localhost:8080/"
        },
        "id": "RyZ84b8SWUQO",
        "outputId": "f7895e86-005e-47c5-e233-86b7842e38a4"
      },
      "execution_count": null,
      "outputs": [
        {
          "output_type": "execute_result",
          "data": {
            "text/plain": [
              "torch.Size([10304, 1])"
            ]
          },
          "metadata": {},
          "execution_count": 84
        }
      ]
    },
    {
      "cell_type": "code",
      "source": [
        "prediction.squeeze().sort(descending =True)"
      ],
      "metadata": {
        "colab": {
          "base_uri": "https://localhost:8080/"
        },
        "id": "CqnDjQbNW_oT",
        "outputId": "bbec8eda-710e-4d43-86cb-2904f4204556"
      },
      "execution_count": null,
      "outputs": [
        {
          "output_type": "execute_result",
          "data": {
            "text/plain": [
              "torch.return_types.sort(\n",
              "values=tensor([1.0000e+00, 1.0000e+00, 1.0000e+00,  ..., 5.9624e-04, 4.5129e-04,\n",
              "        1.0763e-04], grad_fn=<SortBackward0>),\n",
              "indices=tensor([7473, 7422, 7448,  ..., 8719, 7483, 7234]))"
            ]
          },
          "metadata": {},
          "execution_count": 85
        }
      ]
    },
    {
      "cell_type": "code",
      "source": [
        "sorted, indice = prediction.squeeze().sort(descending =True)"
      ],
      "metadata": {
        "id": "K8smI-V1W0Ig"
      },
      "execution_count": null,
      "outputs": []
    },
    {
      "cell_type": "code",
      "source": [
        "decile = int(sorted.size()[0]/10)\n",
        "decile"
      ],
      "metadata": {
        "colab": {
          "base_uri": "https://localhost:8080/"
        },
        "id": "KYMTtv-5W0rY",
        "outputId": "08897c78-1a59-4b4b-973d-6ef32c42c4d8"
      },
      "execution_count": null,
      "outputs": [
        {
          "output_type": "execute_result",
          "data": {
            "text/plain": [
              "1030"
            ]
          },
          "metadata": {},
          "execution_count": 86
        }
      ]
    },
    {
      "cell_type": "code",
      "source": [
        "decile_prob = []\n",
        "\n",
        "for i in range(10):\n",
        "  begin = i*decile\n",
        "  end = (i+1)*decile\n",
        "\n",
        "  if i == 9:\n",
        "    end = sorted.size()[0]\n",
        "  print(begin, end)\n",
        "  decile_prob.append(targets[indice[begin:end]].sum()/decile)"
      ],
      "metadata": {
        "colab": {
          "base_uri": "https://localhost:8080/"
        },
        "id": "9g_dKzpzXLci",
        "outputId": "809ba8ba-4d61-4eb8-dc39-0302da0d7993"
      },
      "execution_count": null,
      "outputs": [
        {
          "output_type": "stream",
          "name": "stdout",
          "text": [
            "0 1030\n",
            "1030 2060\n",
            "2060 3090\n",
            "3090 4120\n",
            "4120 5150\n",
            "5150 6180\n",
            "6180 7210\n",
            "7210 8240\n",
            "8240 9270\n",
            "9270 10304\n"
          ]
        }
      ]
    },
    {
      "cell_type": "code",
      "source": [
        "decile_prob"
      ],
      "metadata": {
        "colab": {
          "base_uri": "https://localhost:8080/"
        },
        "id": "xJJn3iaCYLvf",
        "outputId": "572d4843-0411-4ee1-ee40-912ba1cd356d"
      },
      "execution_count": null,
      "outputs": [
        {
          "output_type": "execute_result",
          "data": {
            "text/plain": [
              "[tensor(0.3369),\n",
              " tensor(0.1845),\n",
              " tensor(0.1573),\n",
              " tensor(0.1320),\n",
              " tensor(0.0942),\n",
              " tensor(0.0913),\n",
              " tensor(0.0447),\n",
              " tensor(0.0447),\n",
              " tensor(0.0398),\n",
              " tensor(0.0262)]"
            ]
          },
          "metadata": {},
          "execution_count": 88
        }
      ]
    }
  ]
}
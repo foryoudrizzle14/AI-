{
  "nbformat": 4,
  "nbformat_minor": 0,
  "metadata": {
    "colab": {
      "provenance": [],
      "gpuType": "T4",
      "include_colab_link": true
    },
    "kernelspec": {
      "name": "python3",
      "display_name": "Python 3"
    },
    "language_info": {
      "name": "python"
    },
    "accelerator": "GPU"
  },
  "cells": [
    {
      "cell_type": "markdown",
      "metadata": {
        "id": "view-in-github",
        "colab_type": "text"
      },
      "source": [
        "<a href=\"https://colab.research.google.com/github/foryoudrizzle14/-kimchi-recipe/blob/main/AI%20%EA%B3%A0%EA%B0%9D%20%EC%9D%B4%ED%83%88%20%EC%98%88%EC%B8%A1%20%EB%AA%A8%EB%8D%B8%20%ED%94%84%EB%A1%9C%EC%A0%9D%ED%8A%B8.ipynb\" target=\"_parent\"><img src=\"https://colab.research.google.com/assets/colab-badge.svg\" alt=\"Open In Colab\"/></a>"
      ]
    },
    {
      "cell_type": "code",
      "execution_count": null,
      "metadata": {
        "id": "jzMQMQQVo3cE"
      },
      "outputs": [],
      "source": [
        "import torch\n",
        "import numpy as np"
      ]
    },
    {
      "cell_type": "code",
      "source": [
        "data = [[1,2],[3,4]]\n",
        "\n",
        "\n",
        "tensor = torch.tensor(data, dtype = torch.float)"
      ],
      "metadata": {
        "id": "dWE6Goox8rOQ"
      },
      "execution_count": null,
      "outputs": []
    },
    {
      "cell_type": "code",
      "source": [],
      "metadata": {
        "id": "q22vGrgh_mVH"
      },
      "execution_count": null,
      "outputs": []
    },
    {
      "cell_type": "code",
      "source": [],
      "metadata": {
        "id": "LfxqRN48_m3p"
      },
      "execution_count": null,
      "outputs": []
    },
    {
      "cell_type": "code",
      "source": [],
      "metadata": {
        "id": "UzA3l4k9_-qU"
      },
      "execution_count": null,
      "outputs": []
    },
    {
      "cell_type": "code",
      "source": [
        "print(tensor.dtype,'\\n', tensor)"
      ],
      "metadata": {
        "colab": {
          "base_uri": "https://localhost:8080/"
        },
        "id": "J18feEJq8tcG",
        "outputId": "8596e64a-377e-4306-d8ea-8c95e8c2af2e"
      },
      "execution_count": null,
      "outputs": [
        {
          "output_type": "stream",
          "name": "stdout",
          "text": [
            "torch.float32 \n",
            " tensor([[1., 2.],\n",
            "        [3., 4.]])\n"
          ]
        }
      ]
    },
    {
      "cell_type": "code",
      "source": [
        "np_array = np.array(data)\n",
        "tensor1 = torch.from_numpy(np_array)\n",
        "\n",
        "print(tensor1)"
      ],
      "metadata": {
        "colab": {
          "base_uri": "https://localhost:8080/"
        },
        "id": "oiuNPV6Q8vq_",
        "outputId": "0026fd9e-7614-4c36-8f42-2e61bc03cfbd"
      },
      "execution_count": null,
      "outputs": [
        {
          "output_type": "stream",
          "name": "stdout",
          "text": [
            "tensor([[1, 2],\n",
            "        [3, 4]])\n"
          ]
        }
      ]
    },
    {
      "cell_type": "code",
      "source": [
        "ones = torch.ones_like(tensor)\n",
        "\n",
        "rands = torch.rand_like(tensor)\n",
        "\n",
        "print(ones, \"\\n\",rands)"
      ],
      "metadata": {
        "colab": {
          "base_uri": "https://localhost:8080/"
        },
        "id": "sFO8qaTP9-CW",
        "outputId": "e4ae046d-4417-4036-cd74-8bcb1bdc1e37"
      },
      "execution_count": null,
      "outputs": [
        {
          "output_type": "stream",
          "name": "stdout",
          "text": [
            "tensor([[1., 1.],\n",
            "        [1., 1.]]) \n",
            " tensor([[0.1492, 0.2094],\n",
            "        [0.6569, 0.1102]])\n"
          ]
        }
      ]
    },
    {
      "cell_type": "code",
      "source": [
        "tensor.dtype\n",
        "tensor.shape\n",
        "tensor.size()\n",
        "\n",
        "tensor.device"
      ],
      "metadata": {
        "colab": {
          "base_uri": "https://localhost:8080/"
        },
        "id": "Ea52LzEA-vqR",
        "outputId": "290a0d0b-7d30-4ea8-a820-bc6f5bd62682"
      },
      "execution_count": null,
      "outputs": [
        {
          "output_type": "execute_result",
          "data": {
            "text/plain": [
              "device(type='cpu')"
            ]
          },
          "metadata": {},
          "execution_count": 6
        }
      ]
    },
    {
      "cell_type": "code",
      "source": [
        "import torch\n",
        "\n",
        "if torch.cuda.is_available():\n",
        "  tensor = tensor.to('cuda')\n",
        "  print(f\"Device tensor is stored on: {tensor.device}\")\n"
      ],
      "metadata": {
        "colab": {
          "base_uri": "https://localhost:8080/"
        },
        "id": "L9jW7ERCAChu",
        "outputId": "ee5ab219-bdc8-415f-de7b-260c8d35b0d2"
      },
      "execution_count": null,
      "outputs": [
        {
          "output_type": "stream",
          "name": "stdout",
          "text": [
            "Device tensor is stored on: cuda:0\n"
          ]
        }
      ]
    },
    {
      "cell_type": "code",
      "source": [
        "data = [[1,2,3],[4,5,6],[7,8,9,]]\n",
        "\n",
        "tensor2 = torch.tensor(data, dtype = torch.float)\n",
        "\n",
        "print(tensor2)"
      ],
      "metadata": {
        "colab": {
          "base_uri": "https://localhost:8080/"
        },
        "id": "0dXQvRFpALhD",
        "outputId": "ff60027c-31b6-4eed-e0bf-1e584c5b35b1"
      },
      "execution_count": null,
      "outputs": [
        {
          "output_type": "stream",
          "name": "stdout",
          "text": [
            "tensor([[1., 2., 3.],\n",
            "        [4., 5., 6.],\n",
            "        [7., 8., 9.]])\n"
          ]
        }
      ]
    },
    {
      "cell_type": "code",
      "source": [
        "tensor2[0,1]"
      ],
      "metadata": {
        "colab": {
          "base_uri": "https://localhost:8080/"
        },
        "id": "xHEu7_BMAjXW",
        "outputId": "8f70d30e-0842-4313-8cd8-f4c636209010"
      },
      "execution_count": null,
      "outputs": [
        {
          "output_type": "execute_result",
          "data": {
            "text/plain": [
              "tensor(2.)"
            ]
          },
          "metadata": {},
          "execution_count": 10
        }
      ]
    },
    {
      "cell_type": "code",
      "source": [
        "tensor2[:2,]"
      ],
      "metadata": {
        "colab": {
          "base_uri": "https://localhost:8080/"
        },
        "id": "SnwbypvXAngm",
        "outputId": "7303453d-4e09-4cd1-ea81-ef526e080cb9"
      },
      "execution_count": null,
      "outputs": [
        {
          "output_type": "execute_result",
          "data": {
            "text/plain": [
              "tensor([[1., 2., 3.],\n",
              "        [4., 5., 6.]])"
            ]
          },
          "metadata": {},
          "execution_count": 11
        }
      ]
    },
    {
      "cell_type": "code",
      "source": [
        "torch.cat([tensor2,tensor2])"
      ],
      "metadata": {
        "colab": {
          "base_uri": "https://localhost:8080/"
        },
        "id": "ZIBFiD9PAuQW",
        "outputId": "da7e41c6-181d-4adc-d5d1-73c31c4376bc"
      },
      "execution_count": null,
      "outputs": [
        {
          "output_type": "execute_result",
          "data": {
            "text/plain": [
              "tensor([[1., 2., 3.],\n",
              "        [4., 5., 6.],\n",
              "        [7., 8., 9.],\n",
              "        [1., 2., 3.],\n",
              "        [4., 5., 6.],\n",
              "        [7., 8., 9.]])"
            ]
          },
          "metadata": {},
          "execution_count": 12
        }
      ]
    },
    {
      "cell_type": "code",
      "source": [
        "tensor_new = torch.cat([tensor2,tensor2])\n",
        "\n",
        "print(tensor_new.shape)\n",
        "print(tensor_new)"
      ],
      "metadata": {
        "colab": {
          "base_uri": "https://localhost:8080/"
        },
        "id": "-ocQRoCqAyvV",
        "outputId": "909a6d79-37aa-4f18-cb0c-81d4b88acb0a"
      },
      "execution_count": null,
      "outputs": [
        {
          "output_type": "stream",
          "name": "stdout",
          "text": [
            "torch.Size([6, 3])\n",
            "tensor([[1., 2., 3.],\n",
            "        [4., 5., 6.],\n",
            "        [7., 8., 9.],\n",
            "        [1., 2., 3.],\n",
            "        [4., 5., 6.],\n",
            "        [7., 8., 9.]])\n"
          ]
        }
      ]
    },
    {
      "cell_type": "code",
      "source": [
        "tensor_new2 = torch.cat([tensor2,tensor2],dim = 1)\n",
        "\n",
        "print(tensor_new2.shape)\n",
        "print(tensor_new2)"
      ],
      "metadata": {
        "colab": {
          "base_uri": "https://localhost:8080/"
        },
        "id": "WwOEYu38AJRk",
        "outputId": "60d667b9-66b5-4f8d-8838-02dee1366c5c"
      },
      "execution_count": null,
      "outputs": [
        {
          "output_type": "stream",
          "name": "stdout",
          "text": [
            "torch.Size([3, 6])\n",
            "tensor([[1., 2., 3., 1., 2., 3.],\n",
            "        [4., 5., 6., 4., 5., 6.],\n",
            "        [7., 8., 9., 7., 8., 9.]])\n"
          ]
        }
      ]
    },
    {
      "cell_type": "markdown",
      "source": [
        "텐서 연산\n"
      ],
      "metadata": {
        "id": "493-nD7NBWs-"
      }
    },
    {
      "cell_type": "code",
      "source": [
        "tensor + tensor"
      ],
      "metadata": {
        "colab": {
          "base_uri": "https://localhost:8080/"
        },
        "id": "9K4S7ST5BcpT",
        "outputId": "8b49c03a-c431-4e3f-b45f-40a9df766886"
      },
      "execution_count": null,
      "outputs": [
        {
          "output_type": "execute_result",
          "data": {
            "text/plain": [
              "tensor([[2., 4.],\n",
              "        [6., 8.]])"
            ]
          },
          "metadata": {},
          "execution_count": 15
        }
      ]
    },
    {
      "cell_type": "code",
      "source": [
        "3 * tensor"
      ],
      "metadata": {
        "colab": {
          "base_uri": "https://localhost:8080/"
        },
        "id": "-gKYK23rBgfs",
        "outputId": "3b6df220-3683-4d9e-e29e-f253994bd6fa"
      },
      "execution_count": null,
      "outputs": [
        {
          "output_type": "execute_result",
          "data": {
            "text/plain": [
              "tensor([[ 3.,  6.],\n",
              "        [ 9., 12.]])"
            ]
          },
          "metadata": {},
          "execution_count": 16
        }
      ]
    },
    {
      "cell_type": "markdown",
      "source": [
        "행렬곱"
      ],
      "metadata": {
        "id": "rHKusn8yClGF"
      }
    },
    {
      "cell_type": "code",
      "source": [
        "tensor.mul(tensor)"
      ],
      "metadata": {
        "colab": {
          "base_uri": "https://localhost:8080/"
        },
        "id": "4QeMqH3yBo0q",
        "outputId": "dfccd682-5823-440e-d58f-9eb4ec478ed5"
      },
      "execution_count": null,
      "outputs": [
        {
          "output_type": "execute_result",
          "data": {
            "text/plain": [
              "tensor([[ 1.,  4.],\n",
              "        [ 9., 16.]])"
            ]
          },
          "metadata": {},
          "execution_count": 18
        }
      ]
    },
    {
      "cell_type": "code",
      "source": [
        "tensor.matmul(tensor)"
      ],
      "metadata": {
        "colab": {
          "base_uri": "https://localhost:8080/"
        },
        "id": "4vAQb74HCV6j",
        "outputId": "a349fd1e-62f7-4665-f523-fd1f58dfd9df"
      },
      "execution_count": null,
      "outputs": [
        {
          "output_type": "execute_result",
          "data": {
            "text/plain": [
              "tensor([[ 7., 10.],\n",
              "        [15., 22.]])"
            ]
          },
          "metadata": {},
          "execution_count": 19
        }
      ]
    },
    {
      "cell_type": "code",
      "source": [
        "tensor@tensor"
      ],
      "metadata": {
        "colab": {
          "base_uri": "https://localhost:8080/"
        },
        "id": "a9euF9Z9CZqL",
        "outputId": "4b781da3-f098-4c62-bd8b-62a01cd5e2b0"
      },
      "execution_count": null,
      "outputs": [
        {
          "output_type": "execute_result",
          "data": {
            "text/plain": [
              "tensor([[ 7., 10.],\n",
              "        [15., 22.]])"
            ]
          },
          "metadata": {},
          "execution_count": 20
        }
      ]
    },
    {
      "cell_type": "markdown",
      "source": [
        "최대값 argmax"
      ],
      "metadata": {
        "id": "qqvv9nyFCw3h"
      }
    },
    {
      "cell_type": "code",
      "source": [
        "tensor2"
      ],
      "metadata": {
        "colab": {
          "base_uri": "https://localhost:8080/"
        },
        "id": "8k4MUYjRC0Z8",
        "outputId": "8c5febc7-1a8c-4321-eb4f-3052de869d95"
      },
      "execution_count": null,
      "outputs": [
        {
          "output_type": "execute_result",
          "data": {
            "text/plain": [
              "tensor([[1., 2., 3.],\n",
              "        [4., 5., 6.],\n",
              "        [7., 8., 9.]])"
            ]
          },
          "metadata": {},
          "execution_count": 21
        }
      ]
    },
    {
      "cell_type": "code",
      "source": [
        "tensor2.max()"
      ],
      "metadata": {
        "colab": {
          "base_uri": "https://localhost:8080/"
        },
        "id": "Xkkc6qq8C3nD",
        "outputId": "b2e42cf2-4b32-4778-af29-afa84c383bc7"
      },
      "execution_count": null,
      "outputs": [
        {
          "output_type": "execute_result",
          "data": {
            "text/plain": [
              "tensor(9.)"
            ]
          },
          "metadata": {},
          "execution_count": 23
        }
      ]
    },
    {
      "cell_type": "code",
      "source": [
        "tensor2.max(dim=0)"
      ],
      "metadata": {
        "colab": {
          "base_uri": "https://localhost:8080/"
        },
        "id": "gLecBsHzC810",
        "outputId": "7eb0c2d4-00f6-4307-ab2f-d125d3c9bdc1"
      },
      "execution_count": null,
      "outputs": [
        {
          "output_type": "execute_result",
          "data": {
            "text/plain": [
              "torch.return_types.max(\n",
              "values=tensor([7., 8., 9.]),\n",
              "indices=tensor([2, 2, 2]))"
            ]
          },
          "metadata": {},
          "execution_count": 26
        }
      ]
    },
    {
      "cell_type": "code",
      "source": [
        "tensor2.argmax()"
      ],
      "metadata": {
        "colab": {
          "base_uri": "https://localhost:8080/"
        },
        "id": "qQYtGeDaDSBn",
        "outputId": "426a9a61-12cd-4d5a-e407-762cde1e0fa0"
      },
      "execution_count": null,
      "outputs": [
        {
          "output_type": "execute_result",
          "data": {
            "text/plain": [
              "tensor(8)"
            ]
          },
          "metadata": {},
          "execution_count": 27
        }
      ]
    },
    {
      "cell_type": "code",
      "source": [
        "tensor2.argmax(dim=0)"
      ],
      "metadata": {
        "colab": {
          "base_uri": "https://localhost:8080/"
        },
        "id": "dUwMkeUMDolT",
        "outputId": "2fc7fd79-61ec-4860-d5aa-f6881b336355"
      },
      "execution_count": null,
      "outputs": [
        {
          "output_type": "execute_result",
          "data": {
            "text/plain": [
              "tensor([2, 2, 2])"
            ]
          },
          "metadata": {},
          "execution_count": 29
        }
      ]
    },
    {
      "cell_type": "code",
      "source": [
        "tensor4 =torch.tensor([[1., 2., 3.,10.],[4., 5., 6.,11.],[7., 8., 9., 12.]])\n",
        "\n",
        "print(tensor4)\n",
        "print(tensor4.shape)"
      ],
      "metadata": {
        "colab": {
          "base_uri": "https://localhost:8080/"
        },
        "id": "p5hRm7HoD4gk",
        "outputId": "bbb1ef94-9375-4fca-e219-1564d318ca94"
      },
      "execution_count": null,
      "outputs": [
        {
          "output_type": "stream",
          "name": "stdout",
          "text": [
            "tensor([[ 1.,  2.,  3., 10.],\n",
            "        [ 4.,  5.,  6., 11.],\n",
            "        [ 7.,  8.,  9., 12.]])\n",
            "torch.Size([3, 4])\n"
          ]
        }
      ]
    },
    {
      "cell_type": "code",
      "source": [
        "tensor4.max(dim=0)"
      ],
      "metadata": {
        "colab": {
          "base_uri": "https://localhost:8080/"
        },
        "id": "sWbGbL5dESmM",
        "outputId": "800abf8f-66a4-48c5-935d-59494f75dc1d"
      },
      "execution_count": null,
      "outputs": [
        {
          "output_type": "execute_result",
          "data": {
            "text/plain": [
              "torch.return_types.max(\n",
              "values=tensor([ 7.,  8.,  9., 12.]),\n",
              "indices=tensor([2, 2, 2, 2]))"
            ]
          },
          "metadata": {},
          "execution_count": 33
        }
      ]
    },
    {
      "cell_type": "markdown",
      "source": [
        "\n",
        "reshape"
      ],
      "metadata": {
        "id": "_n_TAk3TE4kK"
      }
    },
    {
      "cell_type": "code",
      "source": [
        "tensor4"
      ],
      "metadata": {
        "colab": {
          "base_uri": "https://localhost:8080/"
        },
        "id": "2WX2mi7-FRY7",
        "outputId": "3a259545-8371-4ef3-dba5-c088c32d81f2"
      },
      "execution_count": null,
      "outputs": [
        {
          "output_type": "execute_result",
          "data": {
            "text/plain": [
              "tensor([[ 1.,  2.,  3., 10.],\n",
              "        [ 4.,  5.,  6., 11.],\n",
              "        [ 7.,  8.,  9., 12.]])"
            ]
          },
          "metadata": {},
          "execution_count": 34
        }
      ]
    },
    {
      "cell_type": "code",
      "source": [
        "tensor4.reshape(2,6)"
      ],
      "metadata": {
        "colab": {
          "base_uri": "https://localhost:8080/"
        },
        "id": "KCBc7UawFfpp",
        "outputId": "324a991a-470c-4c56-9c0b-35f01045e9a2"
      },
      "execution_count": null,
      "outputs": [
        {
          "output_type": "execute_result",
          "data": {
            "text/plain": [
              "tensor([[ 1.,  2.,  3., 10.,  4.,  5.],\n",
              "        [ 6., 11.,  7.,  8.,  9., 12.]])"
            ]
          },
          "metadata": {},
          "execution_count": 35
        }
      ]
    },
    {
      "cell_type": "code",
      "source": [
        "tensor4.reshape(2,-1)"
      ],
      "metadata": {
        "colab": {
          "base_uri": "https://localhost:8080/"
        },
        "id": "gARkHOBKFj72",
        "outputId": "592d8eef-7abb-4f61-ff05-8403fb25b1e9"
      },
      "execution_count": null,
      "outputs": [
        {
          "output_type": "execute_result",
          "data": {
            "text/plain": [
              "tensor([[ 1.,  2.,  3., 10.,  4.,  5.],\n",
              "        [ 6., 11.,  7.,  8.,  9., 12.]])"
            ]
          },
          "metadata": {},
          "execution_count": 36
        }
      ]
    },
    {
      "cell_type": "code",
      "source": [
        "tensor4.reshape(4,-1)"
      ],
      "metadata": {
        "colab": {
          "base_uri": "https://localhost:8080/"
        },
        "id": "gbIpd2G9Fm6r",
        "outputId": "5852ca69-787f-4779-8ab8-fb6dc4f83334"
      },
      "execution_count": null,
      "outputs": [
        {
          "output_type": "execute_result",
          "data": {
            "text/plain": [
              "tensor([[ 1.,  2.,  3.],\n",
              "        [10.,  4.,  5.],\n",
              "        [ 6., 11.,  7.],\n",
              "        [ 8.,  9., 12.]])"
            ]
          },
          "metadata": {},
          "execution_count": 37
        }
      ]
    },
    {
      "cell_type": "code",
      "source": [
        "tensor4.view(2,6)"
      ],
      "metadata": {
        "colab": {
          "base_uri": "https://localhost:8080/"
        },
        "id": "LXvjJCziFq2-",
        "outputId": "a94f892c-3539-433b-d86d-2c3203df024c"
      },
      "execution_count": null,
      "outputs": [
        {
          "output_type": "execute_result",
          "data": {
            "text/plain": [
              "tensor([[ 1.,  2.,  3., 10.,  4.,  5.],\n",
              "        [ 6., 11.,  7.,  8.,  9., 12.]])"
            ]
          },
          "metadata": {},
          "execution_count": 39
        }
      ]
    },
    {
      "cell_type": "code",
      "source": [
        "tensor4.shape"
      ],
      "metadata": {
        "colab": {
          "base_uri": "https://localhost:8080/"
        },
        "id": "hqGxCl_6FyXL",
        "outputId": "5cf2a526-492b-4e30-c55f-e29d776c2da6"
      },
      "execution_count": null,
      "outputs": [
        {
          "output_type": "execute_result",
          "data": {
            "text/plain": [
              "torch.Size([3, 4])"
            ]
          },
          "metadata": {},
          "execution_count": 40
        }
      ]
    },
    {
      "cell_type": "code",
      "source": [
        "tensor_new4 =torch.unsqueeze(tensor4, dim=0)\n",
        "\n",
        "print(tensor_new4, '\\n',tensor_new4.shape)"
      ],
      "metadata": {
        "colab": {
          "base_uri": "https://localhost:8080/"
        },
        "id": "Fuwb4z7zF5_s",
        "outputId": "c2c63a67-4f62-4a46-8578-d8ea69536298"
      },
      "execution_count": null,
      "outputs": [
        {
          "output_type": "stream",
          "name": "stdout",
          "text": [
            "tensor([[[ 1.,  2.,  3., 10.],\n",
            "         [ 4.,  5.,  6., 11.],\n",
            "         [ 7.,  8.,  9., 12.]]]) \n",
            " torch.Size([1, 3, 4])\n"
          ]
        }
      ]
    },
    {
      "cell_type": "code",
      "source": [
        "tensor_new4 =torch.unsqueeze(tensor4, dim=1)\n",
        "\n",
        "print(tensor_new4, '\\n',tensor_new4.shape)"
      ],
      "metadata": {
        "colab": {
          "base_uri": "https://localhost:8080/"
        },
        "id": "SrCnfQRJG6tM",
        "outputId": "1bcb3e06-441e-4c20-beb1-7a1e36340768"
      },
      "execution_count": null,
      "outputs": [
        {
          "output_type": "stream",
          "name": "stdout",
          "text": [
            "tensor([[[ 1.,  2.,  3., 10.]],\n",
            "\n",
            "        [[ 4.,  5.,  6., 11.]],\n",
            "\n",
            "        [[ 7.,  8.,  9., 12.]]]) \n",
            " torch.Size([3, 1, 4])\n"
          ]
        }
      ]
    },
    {
      "cell_type": "code",
      "source": [
        "tensor_new4 =torch.unsqueeze(tensor4, dim=2)\n",
        "\n",
        "print(tensor_new4, '\\n',tensor_new4.shape)"
      ],
      "metadata": {
        "colab": {
          "base_uri": "https://localhost:8080/"
        },
        "id": "ECtK_8xpHIsS",
        "outputId": "9e186140-7804-4646-9f4b-0b00d24fc02a"
      },
      "execution_count": null,
      "outputs": [
        {
          "output_type": "stream",
          "name": "stdout",
          "text": [
            "tensor([[[ 1.],\n",
            "         [ 2.],\n",
            "         [ 3.],\n",
            "         [10.]],\n",
            "\n",
            "        [[ 4.],\n",
            "         [ 5.],\n",
            "         [ 6.],\n",
            "         [11.]],\n",
            "\n",
            "        [[ 7.],\n",
            "         [ 8.],\n",
            "         [ 9.],\n",
            "         [12.]]]) \n",
            " torch.Size([3, 4, 1])\n"
          ]
        }
      ]
    },
    {
      "cell_type": "code",
      "source": [
        "tensor_new4 =torch.unsqueeze(tensor4, dim=0)\n",
        "\n",
        "print(tensor_new4, '\\n',tensor_new4.shape)"
      ],
      "metadata": {
        "colab": {
          "base_uri": "https://localhost:8080/"
        },
        "id": "WGeSQdkPHu2y",
        "outputId": "f392519e-868d-404b-cef5-52a9066f0ecc"
      },
      "execution_count": null,
      "outputs": [
        {
          "output_type": "stream",
          "name": "stdout",
          "text": [
            "tensor([[[ 1.,  2.,  3., 10.],\n",
            "         [ 4.,  5.,  6., 11.],\n",
            "         [ 7.,  8.,  9., 12.]]]) \n",
            " torch.Size([1, 3, 4])\n"
          ]
        }
      ]
    },
    {
      "cell_type": "code",
      "source": [
        "import torch\n",
        "\n",
        "# Example tensor with a singleton dimension at index 0\n",
        "tensor_new4 = torch.randn(1, 3, 2)  # Shape [1, 3, 2]\n",
        "\n",
        "# Squeeze the tensor at dimension 0\n",
        "torch_new4_1 = torch.squeeze(tensor_new4, dim=0)\n",
        "\n",
        "# Print the shape and the tensor\n",
        "print(tensor_new4.shape, '\\n', tensor_new4)\n"
      ],
      "metadata": {
        "colab": {
          "base_uri": "https://localhost:8080/"
        },
        "id": "hVqrk-kXHxLa",
        "outputId": "17e4cf01-474b-4a33-d36b-e0370aafe572"
      },
      "execution_count": null,
      "outputs": [
        {
          "output_type": "stream",
          "name": "stdout",
          "text": [
            "torch.Size([1, 3, 2]) \n",
            " tensor([[[-1.3931, -0.0527],\n",
            "         [ 0.6126, -2.6474],\n",
            "         [ 1.6074,  0.4436]]])\n"
          ]
        }
      ]
    },
    {
      "cell_type": "code",
      "source": [
        "m1 = torch.FloatTensor([3,3])\n",
        "m2 = torch.FloatTensor([2,2])\n",
        "\n",
        "print(m1 + m2)"
      ],
      "metadata": {
        "colab": {
          "base_uri": "https://localhost:8080/"
        },
        "id": "SJMQkOFyIrUP",
        "outputId": "2e809cbf-11a9-4dc9-dc66-ee7b8f521a3d"
      },
      "execution_count": null,
      "outputs": [
        {
          "output_type": "stream",
          "name": "stdout",
          "text": [
            "tensor([5., 5.])\n"
          ]
        }
      ]
    },
    {
      "cell_type": "code",
      "source": [
        "m1 = torch.FloatTensor([1,2])\n",
        "m2 = torch.FloatTensor([3])\n",
        "print(m1 + m2)"
      ],
      "metadata": {
        "colab": {
          "base_uri": "https://localhost:8080/"
        },
        "id": "1mBOb01yIxko",
        "outputId": "67a89f1e-c023-4c2b-fa37-d1cce70d36f1"
      },
      "execution_count": null,
      "outputs": [
        {
          "output_type": "stream",
          "name": "stdout",
          "text": [
            "tensor([4., 5.])\n"
          ]
        }
      ]
    },
    {
      "cell_type": "code",
      "source": [
        "m1 = torch.FloatTensor([[1,2],[3,4]])\n",
        "m2 = torch.FloatTensor([3,4])\n",
        "print(m1 + m2)"
      ],
      "metadata": {
        "colab": {
          "base_uri": "https://localhost:8080/"
        },
        "id": "KSGhhoNtI5Ep",
        "outputId": "96b7c116-aaf4-4b4c-a396-722e59cbf7e2"
      },
      "execution_count": null,
      "outputs": [
        {
          "output_type": "stream",
          "name": "stdout",
          "text": [
            "tensor([[4., 6.],\n",
            "        [6., 8.]])\n"
          ]
        }
      ]
    }
  ]
}
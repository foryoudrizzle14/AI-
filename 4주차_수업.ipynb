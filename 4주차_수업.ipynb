{
  "nbformat": 4,
  "nbformat_minor": 0,
  "metadata": {
    "colab": {
      "provenance": [],
      "gpuType": "T4",
      "include_colab_link": true
    },
    "kernelspec": {
      "name": "python3",
      "display_name": "Python 3"
    },
    "language_info": {
      "name": "python"
    },
    "accelerator": "GPU"
  },
  "cells": [
    {
      "cell_type": "markdown",
      "metadata": {
        "id": "view-in-github",
        "colab_type": "text"
      },
      "source": [
        "<a href=\"https://colab.research.google.com/github/foryoudrizzle14/AI-/blob/main/4%EC%A3%BC%EC%B0%A8_%EC%88%98%EC%97%85.ipynb\" target=\"_parent\"><img src=\"https://colab.research.google.com/assets/colab-badge.svg\" alt=\"Open In Colab\"/></a>"
      ]
    },
    {
      "cell_type": "code",
      "execution_count": null,
      "metadata": {
        "colab": {
          "base_uri": "https://localhost:8080/"
        },
        "id": "gx2hRE-TvJr_",
        "outputId": "289a2737-66cf-4724-c0b0-e5359efd2683"
      },
      "outputs": [
        {
          "output_type": "stream",
          "name": "stdout",
          "text": [
            "다음 기기로 학습합니다: cuda\n"
          ]
        }
      ],
      "source": [
        "import torch\n",
        "import torch.nn as nn\n",
        "from torch.utils.data import Dataset,DataLoader, TensorDataset\n",
        "from sklearn.datasets import load_iris\n",
        "from sklearn.model_selection import train_test_split\n",
        "from sklearn.preprocessing import StandardScaler\n",
        "import pandas as pd\n",
        "\n",
        "\n",
        "USE_CUDA = torch.cuda.is_available() # GPU를 사용가능하면 True, 아니라면 False를 리턴\n",
        "device = torch.device(\"cuda\" if USE_CUDA else \"cpu\") # GPU 사용 가능하면 사용하고 아니면 CPU 사용\n",
        "print(\"다음 기기로 학습합니다:\", device)\n"
      ]
    },
    {
      "cell_type": "code",
      "source": [
        "\n",
        "\n",
        "# 데이터 로드\n",
        "iris = load_iris()\n",
        "X, y = iris.data, iris.target\n",
        "\n",
        "# 데이터 프레임으로 변환\n",
        "df = pd.DataFrame(X, columns=iris.feature_names)\n",
        "df['target'] = y\n",
        "\n",
        "# 데이터 분할\n",
        "X_train, X_test, y_train, y_test = train_test_split(X, y, test_size=0.2, random_state=42)\n",
        "\n",
        "# 데이터 정규화\n",
        "scaler = StandardScaler()\n",
        "X_train_scaled = scaler.fit_transform(X_train)\n",
        "X_test_scaled = scaler.transform(X_test)"
      ],
      "metadata": {
        "id": "qTXtQ3ei-9LP"
      },
      "execution_count": null,
      "outputs": []
    },
    {
      "cell_type": "code",
      "source": [
        "# 텐서로 변환\n",
        "X_train_tensor = torch.tensor(X_train_scaled, dtype=torch.float32)\n",
        "X_test_tensor = torch.tensor(X_test_scaled, dtype=torch.float32)\n",
        "y_train_tensor = torch.tensor(y_train, dtype=torch.int64)\n",
        "y_test_tensor = torch.tensor(y_test, dtype=torch.int64)"
      ],
      "metadata": {
        "id": "snMRni3r--kE"
      },
      "execution_count": null,
      "outputs": []
    },
    {
      "cell_type": "code",
      "source": [
        "# 데이터 로더 생성\n",
        "train_dataset = TensorDataset(X_train_tensor, y_train_tensor)\n",
        "train_loader = DataLoader(train_dataset, batch_size=16, shuffle=True)"
      ],
      "metadata": {
        "id": "BT0hZg7i_T-r"
      },
      "execution_count": null,
      "outputs": []
    },
    {
      "cell_type": "code",
      "source": [
        "model = nn.Sequential(\n",
        "        nn.Linear(4, 50),\n",
        "        nn.ReLU(),\n",
        "        nn.Linear(50, 3)\n",
        "\n",
        ")"
      ],
      "metadata": {
        "id": "Ra5vNqvDANny"
      },
      "execution_count": null,
      "outputs": []
    },
    {
      "cell_type": "code",
      "source": [
        "class IrisNet(nn.Module):\n",
        "    def __init__(self):\n",
        "        super(IrisNet, self).__init__()\n",
        "        self.fc1 = nn.Linear(4, 50) # 입력 특성은 4개, 첫 번째 은닉층 노드는 50개\n",
        "        self.fc2 = nn.Linear(50, 3) # 출력 클래스는 3개\n",
        "\n",
        "    def forward(self, x):\n",
        "        x = torch.relu(self.fc1(x))\n",
        "        x = self.fc2(x)\n",
        "        return x\n",
        "\n",
        "model = IrisNet()"
      ],
      "metadata": {
        "id": "l6t3QOd4_r2G"
      },
      "execution_count": null,
      "outputs": []
    },
    {
      "cell_type": "code",
      "source": [
        "criterion = nn.CrossEntropyLoss()\n",
        "optimizer = torch.optim.Adam(model.parameters(), lr=0.01)\n",
        "\n",
        "# 학습 과정\n",
        "epochs = 100\n",
        "for epoch in range(epochs):\n",
        "    for inputs, labels in train_loader:\n",
        "        optimizer.zero_grad()\n",
        "        outputs = model(inputs)\n",
        "        loss = criterion(outputs, labels)\n",
        "        loss.backward()\n",
        "        optimizer.step()\n",
        "\n",
        "    if (epoch+1) % 10 == 0:\n",
        "        print(f'Epoch {epoch+1}/{epochs}, Loss: {loss.item():.4f}')"
      ],
      "metadata": {
        "colab": {
          "base_uri": "https://localhost:8080/"
        },
        "id": "HLgfLH9lAbdj",
        "outputId": "b6329ba8-6fc9-41e7-ca0b-fde2e8d9f395"
      },
      "execution_count": null,
      "outputs": [
        {
          "output_type": "stream",
          "name": "stdout",
          "text": [
            "Epoch 10/100, Loss: 0.1239\n",
            "Epoch 20/100, Loss: 0.0131\n",
            "Epoch 30/100, Loss: 0.0779\n",
            "Epoch 40/100, Loss: 0.0310\n",
            "Epoch 50/100, Loss: 0.0015\n",
            "Epoch 60/100, Loss: 0.1792\n",
            "Epoch 70/100, Loss: 0.0005\n",
            "Epoch 80/100, Loss: 0.0156\n",
            "Epoch 90/100, Loss: 0.0073\n",
            "Epoch 100/100, Loss: 0.0001\n"
          ]
        }
      ]
    },
    {
      "cell_type": "code",
      "source": [
        "model.eval()  # 평가 모드로 전환\n",
        "with torch.no_grad():\n",
        "    outputs = model(X_test_tensor)\n",
        "    predicted = torch.argmax(outputs, 1)\n",
        "    accuracy = (predicted == y_test_tensor).float().mean()\n",
        "    print(predicted)\n",
        "    print(y_test_tensor)\n",
        "    print(f'Accuracy: {accuracy:.4f}')"
      ],
      "metadata": {
        "colab": {
          "base_uri": "https://localhost:8080/"
        },
        "id": "wjg4kB-3A7WK",
        "outputId": "6c3147c8-4b9b-4f5e-c6c5-4da41aefb84c"
      },
      "execution_count": null,
      "outputs": [
        {
          "output_type": "stream",
          "name": "stdout",
          "text": [
            "tensor([1, 0, 2, 1, 1, 0, 1, 2, 1, 1, 2, 0, 0, 0, 0, 1, 2, 1, 1, 2, 0, 2, 0, 2,\n",
            "        2, 2, 2, 2, 0, 0])\n",
            "tensor([1, 0, 2, 1, 1, 0, 1, 2, 1, 1, 2, 0, 0, 0, 0, 1, 2, 1, 1, 2, 0, 2, 0, 2,\n",
            "        2, 2, 2, 2, 0, 0])\n",
            "Accuracy: 1.0000\n"
          ]
        }
      ]
    },
    {
      "cell_type": "code",
      "source": [
        "outputs"
      ],
      "metadata": {
        "id": "1zp5WoTRBh8f"
      },
      "execution_count": null,
      "outputs": []
    },
    {
      "cell_type": "markdown",
      "source": [
        "##Dataset, DataLoader"
      ],
      "metadata": {
        "id": "PLSW-GWwBygi"
      }
    },
    {
      "cell_type": "code",
      "source": [
        "X_train_tensor.shape"
      ],
      "metadata": {
        "colab": {
          "base_uri": "https://localhost:8080/"
        },
        "id": "MFMiI1p9B1Tw",
        "outputId": "ce8fc4d6-8643-42e8-b137-87ed15fbcf59"
      },
      "execution_count": null,
      "outputs": [
        {
          "output_type": "execute_result",
          "data": {
            "text/plain": [
              "torch.Size([120, 4])"
            ]
          },
          "metadata": {},
          "execution_count": 10
        }
      ]
    },
    {
      "cell_type": "code",
      "source": [
        "y_train_tensor"
      ],
      "metadata": {
        "colab": {
          "base_uri": "https://localhost:8080/"
        },
        "id": "iN9Jg7o9CDvW",
        "outputId": "ba99f658-0b28-435a-9f48-2405795d9204"
      },
      "execution_count": null,
      "outputs": [
        {
          "output_type": "execute_result",
          "data": {
            "text/plain": [
              "tensor([0, 0, 1, 0, 0, 2, 1, 0, 0, 0, 2, 1, 1, 0, 0, 1, 2, 2, 1, 2, 1, 2, 1, 0,\n",
              "        2, 1, 0, 0, 0, 1, 2, 0, 0, 0, 1, 0, 1, 2, 0, 1, 2, 0, 2, 2, 1, 1, 2, 1,\n",
              "        0, 1, 2, 0, 0, 1, 1, 0, 2, 0, 0, 1, 1, 2, 1, 2, 2, 1, 0, 0, 2, 2, 0, 0,\n",
              "        0, 1, 2, 0, 2, 2, 0, 1, 1, 2, 1, 2, 0, 2, 1, 2, 1, 1, 1, 0, 1, 1, 0, 1,\n",
              "        2, 2, 0, 1, 2, 2, 0, 2, 0, 1, 2, 2, 1, 2, 1, 1, 2, 2, 0, 1, 2, 0, 1, 2])"
            ]
          },
          "metadata": {},
          "execution_count": 11
        }
      ]
    },
    {
      "cell_type": "code",
      "source": [
        "data = [X_train_tensor, y_train_tensor]"
      ],
      "metadata": {
        "id": "udIYvui2Cjtr"
      },
      "execution_count": null,
      "outputs": []
    },
    {
      "cell_type": "code",
      "source": [
        "class Iris_Dataset(Dataset):\n",
        "  def __init__(self, data):\n",
        "    super().__init__()\n",
        "    self.X = data[0]\n",
        "    self.y = data[1]\n",
        "\n",
        "  def __len__(self):\n",
        "    return len(self.X)\n",
        "\n",
        "  def __getitem__(self, idx):\n",
        "    return self.X[idx], self.y[idx]\n",
        "\n"
      ],
      "metadata": {
        "id": "s5UofsEQCIR5"
      },
      "execution_count": null,
      "outputs": []
    },
    {
      "cell_type": "code",
      "source": [
        "train_dataset = Iris_Dataset(data)"
      ],
      "metadata": {
        "id": "lEfQZLSYDAKi"
      },
      "execution_count": null,
      "outputs": []
    },
    {
      "cell_type": "code",
      "source": [
        "train_dataset.__len__()"
      ],
      "metadata": {
        "colab": {
          "base_uri": "https://localhost:8080/"
        },
        "id": "t84p4PgTDFBa",
        "outputId": "96c9ec69-5216-472e-d66f-fa239e9e2f86"
      },
      "execution_count": null,
      "outputs": [
        {
          "output_type": "execute_result",
          "data": {
            "text/plain": [
              "120"
            ]
          },
          "metadata": {},
          "execution_count": 15
        }
      ]
    },
    {
      "cell_type": "code",
      "source": [
        "train_dataset.__getitem__(1)"
      ],
      "metadata": {
        "colab": {
          "base_uri": "https://localhost:8080/"
        },
        "id": "vR27iZi_DJV0",
        "outputId": "e789366e-e7d4-4ae8-d29d-9350b1e9b3cb"
      },
      "execution_count": null,
      "outputs": [
        {
          "output_type": "execute_result",
          "data": {
            "text/plain": [
              "(tensor([-0.1331,  2.9924, -1.2760, -1.0456]), tensor(0))"
            ]
          },
          "metadata": {},
          "execution_count": 17
        }
      ]
    },
    {
      "cell_type": "code",
      "source": [
        "train_loader = DataLoader(train_dataset, batch_size=16, shuffle=True, drop_last=True)"
      ],
      "metadata": {
        "id": "VCNVBeaVDddX"
      },
      "execution_count": null,
      "outputs": []
    },
    {
      "cell_type": "code",
      "source": [
        "[1,2,3]\n",
        "\n",
        "max\n",
        "\n",
        "argmax\n",
        "\n",
        "softmax"
      ],
      "metadata": {
        "id": "sLxLH5L5DgG-"
      },
      "execution_count": null,
      "outputs": []
    },
    {
      "cell_type": "markdown",
      "source": [
        "# MNIST 오버피팅\n",
        "\n",
        "적은양의 데이터만 사용하여 오버피팅 재현"
      ],
      "metadata": {
        "id": "AUnPMkk4HYGB"
      }
    },
    {
      "cell_type": "code",
      "source": [
        "import torch\n",
        "import torch.nn as nn\n",
        "import torch.optim as optim\n",
        "from torchvision import datasets, transforms\n",
        "from torch.utils.data import DataLoader, Subset\n",
        "import numpy as np\n",
        "import matplotlib.pyplot as plt"
      ],
      "metadata": {
        "id": "qUYIPVk4HYcX"
      },
      "execution_count": null,
      "outputs": []
    },
    {
      "cell_type": "markdown",
      "source": [
        "![image.png](data:image/png;base64,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)"
      ],
      "metadata": {
        "id": "R9KZO8ddHrAS"
      }
    },
    {
      "cell_type": "code",
      "source": [
        "# 데이터셋 로드 및 전처리\n",
        "transform = transforms.Compose([\n",
        "    transforms.ToTensor(),\n",
        "    transforms.Normalize((0.5,), (0.5,))\n",
        "])\n",
        "\n",
        "\n",
        "# MNIST 데이터셋 로드\n",
        "train_data = datasets.MNIST(root='./data', train=True, download=True, transform=transform)\n",
        "test_data = datasets.MNIST(root='./data', train=False, download=True, transform=transform)"
      ],
      "metadata": {
        "colab": {
          "base_uri": "https://localhost:8080/"
        },
        "id": "Xw1NBhzGHcFj",
        "outputId": "6791c136-8f49-4c4b-be4d-2dd14b9b101e"
      },
      "execution_count": null,
      "outputs": [
        {
          "output_type": "stream",
          "name": "stdout",
          "text": [
            "Downloading http://yann.lecun.com/exdb/mnist/train-images-idx3-ubyte.gz\n",
            "Failed to download (trying next):\n",
            "HTTP Error 403: Forbidden\n",
            "\n",
            "Downloading https://ossci-datasets.s3.amazonaws.com/mnist/train-images-idx3-ubyte.gz\n",
            "Downloading https://ossci-datasets.s3.amazonaws.com/mnist/train-images-idx3-ubyte.gz to ./data/MNIST/raw/train-images-idx3-ubyte.gz\n"
          ]
        },
        {
          "output_type": "stream",
          "name": "stderr",
          "text": [
            "100%|██████████| 9912422/9912422 [00:02<00:00, 4597321.47it/s]\n"
          ]
        },
        {
          "output_type": "stream",
          "name": "stdout",
          "text": [
            "Extracting ./data/MNIST/raw/train-images-idx3-ubyte.gz to ./data/MNIST/raw\n",
            "\n",
            "Downloading http://yann.lecun.com/exdb/mnist/train-labels-idx1-ubyte.gz\n",
            "Failed to download (trying next):\n",
            "HTTP Error 403: Forbidden\n",
            "\n",
            "Downloading https://ossci-datasets.s3.amazonaws.com/mnist/train-labels-idx1-ubyte.gz\n",
            "Downloading https://ossci-datasets.s3.amazonaws.com/mnist/train-labels-idx1-ubyte.gz to ./data/MNIST/raw/train-labels-idx1-ubyte.gz\n"
          ]
        },
        {
          "output_type": "stream",
          "name": "stderr",
          "text": [
            "100%|██████████| 28881/28881 [00:00<00:00, 134325.22it/s]\n"
          ]
        },
        {
          "output_type": "stream",
          "name": "stdout",
          "text": [
            "Extracting ./data/MNIST/raw/train-labels-idx1-ubyte.gz to ./data/MNIST/raw\n",
            "\n",
            "Downloading http://yann.lecun.com/exdb/mnist/t10k-images-idx3-ubyte.gz\n",
            "Failed to download (trying next):\n",
            "HTTP Error 403: Forbidden\n",
            "\n",
            "Downloading https://ossci-datasets.s3.amazonaws.com/mnist/t10k-images-idx3-ubyte.gz\n",
            "Downloading https://ossci-datasets.s3.amazonaws.com/mnist/t10k-images-idx3-ubyte.gz to ./data/MNIST/raw/t10k-images-idx3-ubyte.gz\n"
          ]
        },
        {
          "output_type": "stream",
          "name": "stderr",
          "text": [
            "100%|██████████| 1648877/1648877 [00:01<00:00, 1272731.65it/s]\n"
          ]
        },
        {
          "output_type": "stream",
          "name": "stdout",
          "text": [
            "Extracting ./data/MNIST/raw/t10k-images-idx3-ubyte.gz to ./data/MNIST/raw\n",
            "\n",
            "Downloading http://yann.lecun.com/exdb/mnist/t10k-labels-idx1-ubyte.gz\n",
            "Failed to download (trying next):\n",
            "HTTP Error 403: Forbidden\n",
            "\n",
            "Downloading https://ossci-datasets.s3.amazonaws.com/mnist/t10k-labels-idx1-ubyte.gz\n",
            "Downloading https://ossci-datasets.s3.amazonaws.com/mnist/t10k-labels-idx1-ubyte.gz to ./data/MNIST/raw/t10k-labels-idx1-ubyte.gz\n"
          ]
        },
        {
          "output_type": "stream",
          "name": "stderr",
          "text": [
            "100%|██████████| 4542/4542 [00:00<00:00, 3675579.54it/s]"
          ]
        },
        {
          "output_type": "stream",
          "name": "stdout",
          "text": [
            "Extracting ./data/MNIST/raw/t10k-labels-idx1-ubyte.gz to ./data/MNIST/raw\n",
            "\n"
          ]
        },
        {
          "output_type": "stream",
          "name": "stderr",
          "text": [
            "\n"
          ]
        }
      ]
    },
    {
      "cell_type": "code",
      "source": [
        "train_data[0]"
      ],
      "metadata": {
        "id": "2B7hYX08H1BP"
      },
      "execution_count": null,
      "outputs": []
    },
    {
      "cell_type": "code",
      "source": [
        "# 트레이닝 샘플 크기를 의도적으로 줄임\n",
        "num_samples = 100  # 예를 들어 100개의 샘플만 사용\n",
        "subset_indices = np.random.choice(len(train_data), num_samples, replace=False)\n",
        "train_subset = Subset(train_data, subset_indices)\n",
        "\n",
        "# 데이터 로더 설정\n",
        "train_loader = DataLoader(train_subset, batch_size=10)\n",
        "test_loader = DataLoader(test_data, batch_size=10)"
      ],
      "metadata": {
        "id": "lvLH5nYuJPOD"
      },
      "execution_count": null,
      "outputs": []
    },
    {
      "cell_type": "code",
      "source": [
        "class DeepNet(nn.Module):\n",
        "    def __init__(self):\n",
        "        super(DeepNet, self).__init__()\n",
        "        self.layers = nn.Sequential(\n",
        "            nn.Linear(28*28, 128),\n",
        "            nn.ReLU(),\n",
        "            nn.Linear(128, 256),\n",
        "            nn.ReLU(),\n",
        "            nn.Linear(256, 256),\n",
        "            nn.ReLU(),\n",
        "            nn.Linear(256, 10)\n",
        "        )\n",
        "\n",
        "    def forward(self, x):\n",
        "        x = x.view(x.size(0), -1) # (1, 28*28)\n",
        "        return self.layers(x)\n",
        "\n"
      ],
      "metadata": {
        "id": "etNSyDrRJuLC"
      },
      "execution_count": null,
      "outputs": []
    },
    {
      "cell_type": "code",
      "source": [
        "# 모델 초기화\n",
        "model = DeepNet()\n",
        "\n",
        "# 손실 함수 및 옵티마이저\n",
        "criterion = nn.CrossEntropyLoss()\n",
        "optimizer = optim.Adam(model.parameters(), lr=0.01)"
      ],
      "metadata": {
        "id": "LVHguvPOJ4Po"
      },
      "execution_count": null,
      "outputs": []
    },
    {
      "cell_type": "code",
      "source": [
        "# 학습 함수\n",
        "def train(model, criterion, optimizer, loader):\n",
        "    model.train()\n",
        "    for data, target in loader:\n",
        "        optimizer.zero_grad()\n",
        "        output = model(data)\n",
        "        loss = criterion(output, target)\n",
        "        loss.backward()\n",
        "        optimizer.step()\n",
        "\n",
        "# 평가 함수\n",
        "def evaluate(model, loader):\n",
        "    model.eval()\n",
        "    total_loss = 0\n",
        "    correct = 0\n",
        "    with torch.no_grad():\n",
        "        for data, target in loader:\n",
        "            output = model(data)\n",
        "            total_loss += criterion(output, target).item()\n",
        "            pred = output.argmax(dim=1)\n",
        "            correct += pred.eq(target.view_as(pred)).sum().item()\n",
        "    return total_loss / len(loader.dataset), correct / len(loader.dataset)\n",
        "\n",
        "def train_test(model, criterion, optimizer, train_loader, test_loader):\n",
        "\n",
        "  train_losses = []\n",
        "  test_losses = []\n",
        "  train_acces = []\n",
        "  test_acces = []\n",
        "  # 학습 및 평가\n",
        "  for epoch in range(50):\n",
        "      train(model, criterion, optimizer, train_loader)\n",
        "      train_loss, train_acc = evaluate(model, train_loader)\n",
        "      test_loss, test_acc = evaluate(model, test_loader)\n",
        "      train_losses.append(train_loss)\n",
        "      test_losses.append(test_loss)\n",
        "      train_acces.append(train_acc)\n",
        "      test_acces.append(test_acc)\n",
        "      print(f'Epoch {epoch+1}, Train Loss: {train_loss:.4f}, Train Acc: {train_acc:.4f}, Test Loss: {test_loss:.4f}, Test Acc: {test_acc:.4f}')\n",
        "\n",
        "  return train_losses, test_losses, train_acces, test_acces\n"
      ],
      "metadata": {
        "id": "pvdbO4oqKXpG"
      },
      "execution_count": null,
      "outputs": []
    }
  ]
}